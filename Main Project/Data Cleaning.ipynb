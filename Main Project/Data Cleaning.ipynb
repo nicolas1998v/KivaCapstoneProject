{
 "cells": [
  {
   "cell_type": "markdown",
   "metadata": {},
   "source": [
    "# KIVA CAPSTONE PROJECT - DATA CLEANING"
   ]
  },
  {
   "cell_type": "markdown",
   "metadata": {},
   "source": [
    "These are the cleaning steps I went through to make this dataset suitable for modelling.\n",
    "*** "
   ]
  },
  {
   "cell_type": "code",
   "execution_count": 1,
   "metadata": {},
   "outputs": [],
   "source": [
    "#IMPORTS\n",
    "import pandas as pd\n",
    "import seaborn as sns\n",
    "import numpy as np\n",
    "from datetime import timedelta\n",
    "import matplotlib.pyplot as plt\n",
    "pd.set_option('display.max_columns', None)"
   ]
  },
  {
   "cell_type": "code",
   "execution_count": 2,
   "metadata": {},
   "outputs": [],
   "source": [
    "#LOAD THE DATASET\n",
    "loans = pd.read_csv('/Users/nicolas/Downloads/loans.csv')"
   ]
  },
  {
   "cell_type": "code",
   "execution_count": 3,
   "metadata": {},
   "outputs": [],
   "source": [
    "#LOWER THE COLUMNS\n",
    "lower_columns = []\n",
    "for i in loans.columns:\n",
    "    lower_columns.append(i.lower())\n",
    "loans.columns = lower_columns"
   ]
  },
  {
   "cell_type": "markdown",
   "metadata": {},
   "source": [
    "## REMOVING NULLS"
   ]
  },
  {
   "cell_type": "markdown",
   "metadata": {},
   "source": [
    "Let's start with the first step, removing nulls."
   ]
  },
  {
   "cell_type": "code",
   "execution_count": 4,
   "metadata": {},
   "outputs": [
    {
     "data": {
      "text/plain": [
       "loan_id                                  0\n",
       "loan_name                            50198\n",
       "original_language                    45851\n",
       "description                          45886\n",
       "description_translated              455272\n",
       "funded_amount                            0\n",
       "loan_amount                              0\n",
       "status                                   0\n",
       "image_id                             45851\n",
       "video_id                           2052882\n",
       "activity_name                            0\n",
       "sector_name                              0\n",
       "loan_use                             45874\n",
       "country_code                            34\n",
       "country_name                             0\n",
       "town_name                           175530\n",
       "currency_policy                          0\n",
       "currency_exchange_coverage_rate     457872\n",
       "currency                                 0\n",
       "partner_id                           20931\n",
       "posted_time                              0\n",
       "planned_expiration_time             371834\n",
       "disburse_time                         3970\n",
       "raised_time                         102776\n",
       "lender_term                             24\n",
       "num_lenders_total                        0\n",
       "num_journal_entries                      0\n",
       "num_bulk_entries                         0\n",
       "tags                                929811\n",
       "borrower_names                       50198\n",
       "borrower_genders                     45851\n",
       "borrower_pictured                    45851\n",
       "repayment_interval                       0\n",
       "distribution_model                       0\n",
       "dtype: int64"
      ]
     },
     "execution_count": 4,
     "metadata": {},
     "output_type": "execute_result"
    }
   ],
   "source": [
    "loans.isnull().sum()"
   ]
  },
  {
   "cell_type": "markdown",
   "metadata": {},
   "source": [
    "### DESCRIPTIONS"
   ]
  },
  {
   "cell_type": "markdown",
   "metadata": {},
   "source": [
    "First of all, I dealt with the many nulls under the description_translated column. As you can see here, most of the nulls in this column are due to the fact that the translation is already made in the description column. Only some small amounts of loans, like this one in index 269, has a description with a language other than English. Hence, I replaced most of the nulls in the description translated column by the values in the description column.\n",
    "\n",
    "Note. I tried translating the values like the one at index 269 using a google translate module, but the amount of data I had was too large for this operation. "
   ]
  },
  {
   "cell_type": "code",
   "execution_count": 5,
   "metadata": {},
   "outputs": [
    {
     "data": {
      "text/html": [
       "<div>\n",
       "<style scoped>\n",
       "    .dataframe tbody tr th:only-of-type {\n",
       "        vertical-align: middle;\n",
       "    }\n",
       "\n",
       "    .dataframe tbody tr th {\n",
       "        vertical-align: top;\n",
       "    }\n",
       "\n",
       "    .dataframe thead th {\n",
       "        text-align: right;\n",
       "    }\n",
       "</style>\n",
       "<table border=\"1\" class=\"dataframe\">\n",
       "  <thead>\n",
       "    <tr style=\"text-align: right;\">\n",
       "      <th></th>\n",
       "      <th>loan_id</th>\n",
       "      <th>loan_name</th>\n",
       "      <th>original_language</th>\n",
       "      <th>description</th>\n",
       "      <th>description_translated</th>\n",
       "      <th>funded_amount</th>\n",
       "      <th>loan_amount</th>\n",
       "      <th>status</th>\n",
       "      <th>image_id</th>\n",
       "      <th>video_id</th>\n",
       "      <th>activity_name</th>\n",
       "      <th>sector_name</th>\n",
       "      <th>loan_use</th>\n",
       "      <th>country_code</th>\n",
       "      <th>country_name</th>\n",
       "      <th>town_name</th>\n",
       "      <th>currency_policy</th>\n",
       "      <th>currency_exchange_coverage_rate</th>\n",
       "      <th>currency</th>\n",
       "      <th>partner_id</th>\n",
       "      <th>posted_time</th>\n",
       "      <th>planned_expiration_time</th>\n",
       "      <th>disburse_time</th>\n",
       "      <th>raised_time</th>\n",
       "      <th>lender_term</th>\n",
       "      <th>num_lenders_total</th>\n",
       "      <th>num_journal_entries</th>\n",
       "      <th>num_bulk_entries</th>\n",
       "      <th>tags</th>\n",
       "      <th>borrower_names</th>\n",
       "      <th>borrower_genders</th>\n",
       "      <th>borrower_pictured</th>\n",
       "      <th>repayment_interval</th>\n",
       "      <th>distribution_model</th>\n",
       "    </tr>\n",
       "  </thead>\n",
       "  <tbody>\n",
       "    <tr>\n",
       "      <th>110</th>\n",
       "      <td>19785</td>\n",
       "      <td>Maricela</td>\n",
       "      <td>Spanish</td>\n",
       "      <td>&lt;p&gt; Maricela is married and her husband is a c...</td>\n",
       "      <td>NaN</td>\n",
       "      <td>650.0</td>\n",
       "      <td>650.0</td>\n",
       "      <td>funded</td>\n",
       "      <td>70062.0</td>\n",
       "      <td>NaN</td>\n",
       "      <td>General Store</td>\n",
       "      <td>Retail</td>\n",
       "      <td>Grow her business</td>\n",
       "      <td>MX</td>\n",
       "      <td>Mexico</td>\n",
       "      <td>Apodaca, N. L.</td>\n",
       "      <td>standard</td>\n",
       "      <td>NaN</td>\n",
       "      <td>USD</td>\n",
       "      <td>16.0</td>\n",
       "      <td>2007-09-27 22:09:11.000 +0000</td>\n",
       "      <td>NaN</td>\n",
       "      <td>2007-10-14 05:42:44.000 +0000</td>\n",
       "      <td>2007-09-30 05:42:44.000 +0000</td>\n",
       "      <td>9.0</td>\n",
       "      <td>14</td>\n",
       "      <td>1</td>\n",
       "      <td>1</td>\n",
       "      <td>NaN</td>\n",
       "      <td>Maricela</td>\n",
       "      <td>female</td>\n",
       "      <td>true</td>\n",
       "      <td>monthly</td>\n",
       "      <td>field_partner</td>\n",
       "    </tr>\n",
       "    <tr>\n",
       "      <th>269</th>\n",
       "      <td>143989</td>\n",
       "      <td>Mercedes</td>\n",
       "      <td>Spanish</td>\n",
       "      <td>Mercedes es una socia alegre y siempre dinámic...</td>\n",
       "      <td>NaN</td>\n",
       "      <td>350.0</td>\n",
       "      <td>350.0</td>\n",
       "      <td>funded</td>\n",
       "      <td>402362.0</td>\n",
       "      <td>NaN</td>\n",
       "      <td>Cloth &amp; Dressmaking Supplies</td>\n",
       "      <td>Retail</td>\n",
       "      <td>Invertirá en la compra de prendas de vestir</td>\n",
       "      <td>PE</td>\n",
       "      <td>Peru</td>\n",
       "      <td>PUCALLPA</td>\n",
       "      <td>shared</td>\n",
       "      <td>0.2</td>\n",
       "      <td>PEN</td>\n",
       "      <td>72.0</td>\n",
       "      <td>2009-10-13 21:19:55.000 +0000</td>\n",
       "      <td>NaN</td>\n",
       "      <td>2009-09-24 07:00:00.000 +0000</td>\n",
       "      <td>2009-10-18 15:48:54.000 +0000</td>\n",
       "      <td>6.0</td>\n",
       "      <td>14</td>\n",
       "      <td>1</td>\n",
       "      <td>1</td>\n",
       "      <td>NaN</td>\n",
       "      <td>Mercedes</td>\n",
       "      <td>female</td>\n",
       "      <td>true</td>\n",
       "      <td>monthly</td>\n",
       "      <td>field_partner</td>\n",
       "    </tr>\n",
       "    <tr>\n",
       "      <th>416</th>\n",
       "      <td>43592</td>\n",
       "      <td>Teresa</td>\n",
       "      <td>Spanish</td>\n",
       "      <td>I need to put up a wall around my home and als...</td>\n",
       "      <td>NaN</td>\n",
       "      <td>1000.0</td>\n",
       "      <td>1000.0</td>\n",
       "      <td>funded</td>\n",
       "      <td>147067.0</td>\n",
       "      <td>NaN</td>\n",
       "      <td>Construction</td>\n",
       "      <td>Construction</td>\n",
       "      <td>To put up a wall and repair a window at my house</td>\n",
       "      <td>MX</td>\n",
       "      <td>Mexico</td>\n",
       "      <td>Acuna</td>\n",
       "      <td>standard</td>\n",
       "      <td>NaN</td>\n",
       "      <td>MXN</td>\n",
       "      <td>18.0</td>\n",
       "      <td>2008-04-02 18:19:09.000 +0000</td>\n",
       "      <td>NaN</td>\n",
       "      <td>2008-04-20 16:01:46.000 +0000</td>\n",
       "      <td>2008-04-06 16:01:46.000 +0000</td>\n",
       "      <td>14.0</td>\n",
       "      <td>25</td>\n",
       "      <td>1</td>\n",
       "      <td>1</td>\n",
       "      <td>NaN</td>\n",
       "      <td>Teresa</td>\n",
       "      <td>female</td>\n",
       "      <td>true</td>\n",
       "      <td>monthly</td>\n",
       "      <td>field_partner</td>\n",
       "    </tr>\n",
       "    <tr>\n",
       "      <th>647</th>\n",
       "      <td>37244</td>\n",
       "      <td>Maria Vilma</td>\n",
       "      <td>Spanish</td>\n",
       "      <td>Mrs. María Vilma O. A. is a member of the Comm...</td>\n",
       "      <td>NaN</td>\n",
       "      <td>350.0</td>\n",
       "      <td>350.0</td>\n",
       "      <td>funded</td>\n",
       "      <td>131004.0</td>\n",
       "      <td>NaN</td>\n",
       "      <td>Animal Sales</td>\n",
       "      <td>Agriculture</td>\n",
       "      <td>Purchase of a lamb, a pig, and a few chickens.</td>\n",
       "      <td>PE</td>\n",
       "      <td>Peru</td>\n",
       "      <td>Usquil - Otuzco, La Libertad</td>\n",
       "      <td>standard</td>\n",
       "      <td>NaN</td>\n",
       "      <td>PEN</td>\n",
       "      <td>72.0</td>\n",
       "      <td>2008-02-18 21:37:05.000 +0000</td>\n",
       "      <td>NaN</td>\n",
       "      <td>2008-03-11 05:33:57.000 +0000</td>\n",
       "      <td>2008-02-26 06:33:57.000 +0000</td>\n",
       "      <td>7.0</td>\n",
       "      <td>1</td>\n",
       "      <td>2</td>\n",
       "      <td>1</td>\n",
       "      <td>NaN</td>\n",
       "      <td>Maria Vilma</td>\n",
       "      <td>female</td>\n",
       "      <td>true</td>\n",
       "      <td>monthly</td>\n",
       "      <td>field_partner</td>\n",
       "    </tr>\n",
       "    <tr>\n",
       "      <th>1535</th>\n",
       "      <td>21009</td>\n",
       "      <td>Guillermo</td>\n",
       "      <td>Spanish</td>\n",
       "      <td>Guillermo is a milk producer and has a small v...</td>\n",
       "      <td>NaN</td>\n",
       "      <td>700.0</td>\n",
       "      <td>700.0</td>\n",
       "      <td>funded</td>\n",
       "      <td>74437.0</td>\n",
       "      <td>NaN</td>\n",
       "      <td>Dairy</td>\n",
       "      <td>Agriculture</td>\n",
       "      <td>to buy a dairy cow</td>\n",
       "      <td>BO</td>\n",
       "      <td>Bolivia</td>\n",
       "      <td>Palomar</td>\n",
       "      <td>standard</td>\n",
       "      <td>NaN</td>\n",
       "      <td>USD</td>\n",
       "      <td>48.0</td>\n",
       "      <td>2007-10-11 13:42:46.000 +0000</td>\n",
       "      <td>NaN</td>\n",
       "      <td>2007-10-27 23:39:24.000 +0000</td>\n",
       "      <td>2007-10-13 23:39:24.000 +0000</td>\n",
       "      <td>17.0</td>\n",
       "      <td>21</td>\n",
       "      <td>11</td>\n",
       "      <td>6</td>\n",
       "      <td>NaN</td>\n",
       "      <td>Guillermo</td>\n",
       "      <td>male</td>\n",
       "      <td>true</td>\n",
       "      <td>monthly</td>\n",
       "      <td>field_partner</td>\n",
       "    </tr>\n",
       "  </tbody>\n",
       "</table>\n",
       "</div>"
      ],
      "text/plain": [
       "      loan_id    loan_name original_language  \\\n",
       "110     19785     Maricela           Spanish   \n",
       "269    143989     Mercedes           Spanish   \n",
       "416     43592       Teresa           Spanish   \n",
       "647     37244  Maria Vilma           Spanish   \n",
       "1535    21009    Guillermo           Spanish   \n",
       "\n",
       "                                            description  \\\n",
       "110   <p> Maricela is married and her husband is a c...   \n",
       "269   Mercedes es una socia alegre y siempre dinámic...   \n",
       "416   I need to put up a wall around my home and als...   \n",
       "647   Mrs. María Vilma O. A. is a member of the Comm...   \n",
       "1535  Guillermo is a milk producer and has a small v...   \n",
       "\n",
       "     description_translated  funded_amount  loan_amount  status  image_id  \\\n",
       "110                     NaN          650.0        650.0  funded   70062.0   \n",
       "269                     NaN          350.0        350.0  funded  402362.0   \n",
       "416                     NaN         1000.0       1000.0  funded  147067.0   \n",
       "647                     NaN          350.0        350.0  funded  131004.0   \n",
       "1535                    NaN          700.0        700.0  funded   74437.0   \n",
       "\n",
       "      video_id                 activity_name   sector_name  \\\n",
       "110        NaN                 General Store        Retail   \n",
       "269        NaN  Cloth & Dressmaking Supplies        Retail   \n",
       "416        NaN                  Construction  Construction   \n",
       "647        NaN                  Animal Sales   Agriculture   \n",
       "1535       NaN                         Dairy   Agriculture   \n",
       "\n",
       "                                              loan_use country_code  \\\n",
       "110                                  Grow her business           MX   \n",
       "269       Invertirá en la compra de prendas de vestir            PE   \n",
       "416   To put up a wall and repair a window at my house           MX   \n",
       "647     Purchase of a lamb, a pig, and a few chickens.           PE   \n",
       "1535                                to buy a dairy cow           BO   \n",
       "\n",
       "     country_name                     town_name currency_policy  \\\n",
       "110        Mexico                Apodaca, N. L.        standard   \n",
       "269          Peru                      PUCALLPA          shared   \n",
       "416        Mexico                         Acuna        standard   \n",
       "647          Peru  Usquil - Otuzco, La Libertad        standard   \n",
       "1535      Bolivia                       Palomar        standard   \n",
       "\n",
       "      currency_exchange_coverage_rate currency  partner_id  \\\n",
       "110                               NaN      USD        16.0   \n",
       "269                               0.2      PEN        72.0   \n",
       "416                               NaN      MXN        18.0   \n",
       "647                               NaN      PEN        72.0   \n",
       "1535                              NaN      USD        48.0   \n",
       "\n",
       "                        posted_time planned_expiration_time  \\\n",
       "110   2007-09-27 22:09:11.000 +0000                     NaN   \n",
       "269   2009-10-13 21:19:55.000 +0000                     NaN   \n",
       "416   2008-04-02 18:19:09.000 +0000                     NaN   \n",
       "647   2008-02-18 21:37:05.000 +0000                     NaN   \n",
       "1535  2007-10-11 13:42:46.000 +0000                     NaN   \n",
       "\n",
       "                      disburse_time                    raised_time  \\\n",
       "110   2007-10-14 05:42:44.000 +0000  2007-09-30 05:42:44.000 +0000   \n",
       "269   2009-09-24 07:00:00.000 +0000  2009-10-18 15:48:54.000 +0000   \n",
       "416   2008-04-20 16:01:46.000 +0000  2008-04-06 16:01:46.000 +0000   \n",
       "647   2008-03-11 05:33:57.000 +0000  2008-02-26 06:33:57.000 +0000   \n",
       "1535  2007-10-27 23:39:24.000 +0000  2007-10-13 23:39:24.000 +0000   \n",
       "\n",
       "      lender_term  num_lenders_total  num_journal_entries  num_bulk_entries  \\\n",
       "110           9.0                 14                    1                 1   \n",
       "269           6.0                 14                    1                 1   \n",
       "416          14.0                 25                    1                 1   \n",
       "647           7.0                  1                    2                 1   \n",
       "1535         17.0                 21                   11                 6   \n",
       "\n",
       "     tags borrower_names borrower_genders borrower_pictured  \\\n",
       "110   NaN       Maricela           female              true   \n",
       "269   NaN       Mercedes           female              true   \n",
       "416   NaN         Teresa           female              true   \n",
       "647   NaN    Maria Vilma           female              true   \n",
       "1535  NaN      Guillermo             male              true   \n",
       "\n",
       "     repayment_interval distribution_model  \n",
       "110             monthly      field_partner  \n",
       "269             monthly      field_partner  \n",
       "416             monthly      field_partner  \n",
       "647             monthly      field_partner  \n",
       "1535            monthly      field_partner  "
      ]
     },
     "execution_count": 5,
     "metadata": {},
     "output_type": "execute_result"
    }
   ],
   "source": [
    "loans[(loans.description_translated.isnull()) & (loans.original_language == 'Spanish')].head(5)"
   ]
  },
  {
   "cell_type": "code",
   "execution_count": 6,
   "metadata": {},
   "outputs": [],
   "source": [
    "#SUBSET \n",
    "description_nulls = loans[(loans.description_translated.isnull())]"
   ]
  },
  {
   "cell_type": "code",
   "execution_count": 7,
   "metadata": {},
   "outputs": [],
   "source": [
    "#USING ILOC TO REPLACE THE NULLS WITH THE VALUES IN THE DESCRIPTION\n",
    "loans.iloc[description_nulls.index,4] = description_nulls.description"
   ]
  },
  {
   "cell_type": "markdown",
   "metadata": {},
   "source": [
    "I also removed the 45k rows of remaining nulls. I did this due to the consistent presence of other nulls throughout the subset, not only for description but also for name, genders and pictures. This meant I coudn't do most of my data imputations with this subset. \n",
    "\n",
    "Obviously, not having much information on your page is a big predictor in not getting your loan funded. However, these rows don't offer much to the inference I want to make, for example by how much your probability is in getting funded if you are a man or a woman or having a picture up or not. Since they don't allow to make better inferences, I removed these rows. As for the model use case, I don't want to promote loans without pictures or basic information anyway."
   ]
  },
  {
   "cell_type": "code",
   "execution_count": 8,
   "metadata": {},
   "outputs": [
    {
     "data": {
      "text/html": [
       "<div>\n",
       "<style scoped>\n",
       "    .dataframe tbody tr th:only-of-type {\n",
       "        vertical-align: middle;\n",
       "    }\n",
       "\n",
       "    .dataframe tbody tr th {\n",
       "        vertical-align: top;\n",
       "    }\n",
       "\n",
       "    .dataframe thead th {\n",
       "        text-align: right;\n",
       "    }\n",
       "</style>\n",
       "<table border=\"1\" class=\"dataframe\">\n",
       "  <thead>\n",
       "    <tr style=\"text-align: right;\">\n",
       "      <th></th>\n",
       "      <th>loan_id</th>\n",
       "      <th>loan_name</th>\n",
       "      <th>original_language</th>\n",
       "      <th>description</th>\n",
       "      <th>description_translated</th>\n",
       "      <th>funded_amount</th>\n",
       "      <th>loan_amount</th>\n",
       "      <th>status</th>\n",
       "      <th>image_id</th>\n",
       "      <th>video_id</th>\n",
       "      <th>activity_name</th>\n",
       "      <th>sector_name</th>\n",
       "      <th>loan_use</th>\n",
       "      <th>country_code</th>\n",
       "      <th>country_name</th>\n",
       "      <th>town_name</th>\n",
       "      <th>currency_policy</th>\n",
       "      <th>currency_exchange_coverage_rate</th>\n",
       "      <th>currency</th>\n",
       "      <th>partner_id</th>\n",
       "      <th>posted_time</th>\n",
       "      <th>planned_expiration_time</th>\n",
       "      <th>disburse_time</th>\n",
       "      <th>raised_time</th>\n",
       "      <th>lender_term</th>\n",
       "      <th>num_lenders_total</th>\n",
       "      <th>num_journal_entries</th>\n",
       "      <th>num_bulk_entries</th>\n",
       "      <th>tags</th>\n",
       "      <th>borrower_names</th>\n",
       "      <th>borrower_genders</th>\n",
       "      <th>borrower_pictured</th>\n",
       "      <th>repayment_interval</th>\n",
       "      <th>distribution_model</th>\n",
       "    </tr>\n",
       "  </thead>\n",
       "  <tbody>\n",
       "    <tr>\n",
       "      <th>57</th>\n",
       "      <td>440362</td>\n",
       "      <td>NaN</td>\n",
       "      <td>NaN</td>\n",
       "      <td>NaN</td>\n",
       "      <td>NaN</td>\n",
       "      <td>500.0</td>\n",
       "      <td>500.0</td>\n",
       "      <td>funded</td>\n",
       "      <td>NaN</td>\n",
       "      <td>NaN</td>\n",
       "      <td>Fish Selling</td>\n",
       "      <td>Food</td>\n",
       "      <td>NaN</td>\n",
       "      <td>VN</td>\n",
       "      <td>Vietnam</td>\n",
       "      <td>NaN</td>\n",
       "      <td>shared</td>\n",
       "      <td>0.1</td>\n",
       "      <td>VND</td>\n",
       "      <td>172.0</td>\n",
       "      <td>2012-06-20 04:32:41.000 +0000</td>\n",
       "      <td>2012-07-21 15:00:55.000 +0000</td>\n",
       "      <td>2012-05-24 07:00:00.000 +0000</td>\n",
       "      <td>2012-06-21 20:34:39.000 +0000</td>\n",
       "      <td>11.0</td>\n",
       "      <td>19</td>\n",
       "      <td>2</td>\n",
       "      <td>1</td>\n",
       "      <td>NaN</td>\n",
       "      <td>NaN</td>\n",
       "      <td>NaN</td>\n",
       "      <td>NaN</td>\n",
       "      <td>monthly</td>\n",
       "      <td>field_partner</td>\n",
       "    </tr>\n",
       "    <tr>\n",
       "      <th>132</th>\n",
       "      <td>232107</td>\n",
       "      <td>NaN</td>\n",
       "      <td>NaN</td>\n",
       "      <td>NaN</td>\n",
       "      <td>NaN</td>\n",
       "      <td>425.0</td>\n",
       "      <td>425.0</td>\n",
       "      <td>funded</td>\n",
       "      <td>NaN</td>\n",
       "      <td>NaN</td>\n",
       "      <td>Fish Selling</td>\n",
       "      <td>Food</td>\n",
       "      <td>NaN</td>\n",
       "      <td>LR</td>\n",
       "      <td>Liberia</td>\n",
       "      <td>NaN</td>\n",
       "      <td>shared</td>\n",
       "      <td>0.2</td>\n",
       "      <td>LRD</td>\n",
       "      <td>141.0</td>\n",
       "      <td>2010-09-17 15:57:50.000 +0000</td>\n",
       "      <td>NaN</td>\n",
       "      <td>2010-09-16 07:00:00.000 +0000</td>\n",
       "      <td>2010-09-20 16:51:54.000 +0000</td>\n",
       "      <td>6.0</td>\n",
       "      <td>17</td>\n",
       "      <td>2</td>\n",
       "      <td>1</td>\n",
       "      <td>NaN</td>\n",
       "      <td>NaN</td>\n",
       "      <td>NaN</td>\n",
       "      <td>NaN</td>\n",
       "      <td>monthly</td>\n",
       "      <td>field_partner</td>\n",
       "    </tr>\n",
       "    <tr>\n",
       "      <th>183</th>\n",
       "      <td>433433</td>\n",
       "      <td>NaN</td>\n",
       "      <td>NaN</td>\n",
       "      <td>NaN</td>\n",
       "      <td>NaN</td>\n",
       "      <td>250.0</td>\n",
       "      <td>250.0</td>\n",
       "      <td>funded</td>\n",
       "      <td>NaN</td>\n",
       "      <td>NaN</td>\n",
       "      <td>General Store</td>\n",
       "      <td>Retail</td>\n",
       "      <td>NaN</td>\n",
       "      <td>PH</td>\n",
       "      <td>Philippines</td>\n",
       "      <td>NaN</td>\n",
       "      <td>shared</td>\n",
       "      <td>0.1</td>\n",
       "      <td>PHP</td>\n",
       "      <td>128.0</td>\n",
       "      <td>2012-06-04 03:56:35.000 +0000</td>\n",
       "      <td>2012-07-04 14:00:10.000 +0000</td>\n",
       "      <td>2012-05-28 07:00:00.000 +0000</td>\n",
       "      <td>2012-06-08 19:54:35.000 +0000</td>\n",
       "      <td>12.0</td>\n",
       "      <td>10</td>\n",
       "      <td>2</td>\n",
       "      <td>1</td>\n",
       "      <td>NaN</td>\n",
       "      <td>NaN</td>\n",
       "      <td>NaN</td>\n",
       "      <td>NaN</td>\n",
       "      <td>monthly</td>\n",
       "      <td>field_partner</td>\n",
       "    </tr>\n",
       "    <tr>\n",
       "      <th>199</th>\n",
       "      <td>16615</td>\n",
       "      <td>NaN</td>\n",
       "      <td>NaN</td>\n",
       "      <td>NaN</td>\n",
       "      <td>NaN</td>\n",
       "      <td>400.0</td>\n",
       "      <td>400.0</td>\n",
       "      <td>funded</td>\n",
       "      <td>NaN</td>\n",
       "      <td>NaN</td>\n",
       "      <td>Cosmetics Sales</td>\n",
       "      <td>Retail</td>\n",
       "      <td>NaN</td>\n",
       "      <td>TG</td>\n",
       "      <td>Togo</td>\n",
       "      <td>NaN</td>\n",
       "      <td>standard</td>\n",
       "      <td>NaN</td>\n",
       "      <td>USD</td>\n",
       "      <td>45.0</td>\n",
       "      <td>2007-08-21 06:26:17.000 +0000</td>\n",
       "      <td>NaN</td>\n",
       "      <td>2007-09-17 02:29:50.000 +0000</td>\n",
       "      <td>2007-09-03 02:29:50.000 +0000</td>\n",
       "      <td>15.0</td>\n",
       "      <td>8</td>\n",
       "      <td>1</td>\n",
       "      <td>1</td>\n",
       "      <td>NaN</td>\n",
       "      <td>NaN</td>\n",
       "      <td>NaN</td>\n",
       "      <td>NaN</td>\n",
       "      <td>monthly</td>\n",
       "      <td>field_partner</td>\n",
       "    </tr>\n",
       "    <tr>\n",
       "      <th>231</th>\n",
       "      <td>781422</td>\n",
       "      <td>NaN</td>\n",
       "      <td>NaN</td>\n",
       "      <td>NaN</td>\n",
       "      <td>NaN</td>\n",
       "      <td>350.0</td>\n",
       "      <td>350.0</td>\n",
       "      <td>funded</td>\n",
       "      <td>NaN</td>\n",
       "      <td>NaN</td>\n",
       "      <td>Transportation</td>\n",
       "      <td>Transportation</td>\n",
       "      <td>NaN</td>\n",
       "      <td>PE</td>\n",
       "      <td>Peru</td>\n",
       "      <td>NaN</td>\n",
       "      <td>shared</td>\n",
       "      <td>0.1</td>\n",
       "      <td>PEN</td>\n",
       "      <td>139.0</td>\n",
       "      <td>2014-10-10 16:14:10.000 +0000</td>\n",
       "      <td>2014-11-21 01:00:02.000 +0000</td>\n",
       "      <td>2014-09-11 07:00:00.000 +0000</td>\n",
       "      <td>2014-10-23 06:47:58.000 +0000</td>\n",
       "      <td>14.0</td>\n",
       "      <td>12</td>\n",
       "      <td>1</td>\n",
       "      <td>1</td>\n",
       "      <td>NaN</td>\n",
       "      <td>NaN</td>\n",
       "      <td>NaN</td>\n",
       "      <td>NaN</td>\n",
       "      <td>monthly</td>\n",
       "      <td>field_partner</td>\n",
       "    </tr>\n",
       "    <tr>\n",
       "      <th>...</th>\n",
       "      <td>...</td>\n",
       "      <td>...</td>\n",
       "      <td>...</td>\n",
       "      <td>...</td>\n",
       "      <td>...</td>\n",
       "      <td>...</td>\n",
       "      <td>...</td>\n",
       "      <td>...</td>\n",
       "      <td>...</td>\n",
       "      <td>...</td>\n",
       "      <td>...</td>\n",
       "      <td>...</td>\n",
       "      <td>...</td>\n",
       "      <td>...</td>\n",
       "      <td>...</td>\n",
       "      <td>...</td>\n",
       "      <td>...</td>\n",
       "      <td>...</td>\n",
       "      <td>...</td>\n",
       "      <td>...</td>\n",
       "      <td>...</td>\n",
       "      <td>...</td>\n",
       "      <td>...</td>\n",
       "      <td>...</td>\n",
       "      <td>...</td>\n",
       "      <td>...</td>\n",
       "      <td>...</td>\n",
       "      <td>...</td>\n",
       "      <td>...</td>\n",
       "      <td>...</td>\n",
       "      <td>...</td>\n",
       "      <td>...</td>\n",
       "      <td>...</td>\n",
       "      <td>...</td>\n",
       "    </tr>\n",
       "    <tr>\n",
       "      <th>2053911</th>\n",
       "      <td>238018</td>\n",
       "      <td>NaN</td>\n",
       "      <td>NaN</td>\n",
       "      <td>NaN</td>\n",
       "      <td>NaN</td>\n",
       "      <td>725.0</td>\n",
       "      <td>725.0</td>\n",
       "      <td>funded</td>\n",
       "      <td>NaN</td>\n",
       "      <td>NaN</td>\n",
       "      <td>Food Production/Sales</td>\n",
       "      <td>Food</td>\n",
       "      <td>NaN</td>\n",
       "      <td>PE</td>\n",
       "      <td>Peru</td>\n",
       "      <td>NaN</td>\n",
       "      <td>shared</td>\n",
       "      <td>0.2</td>\n",
       "      <td>PEN</td>\n",
       "      <td>71.0</td>\n",
       "      <td>2010-10-11 17:45:18.000 +0000</td>\n",
       "      <td>NaN</td>\n",
       "      <td>2010-09-13 07:00:00.000 +0000</td>\n",
       "      <td>2010-10-17 02:22:27.000 +0000</td>\n",
       "      <td>10.0</td>\n",
       "      <td>27</td>\n",
       "      <td>1</td>\n",
       "      <td>1</td>\n",
       "      <td>NaN</td>\n",
       "      <td>NaN</td>\n",
       "      <td>NaN</td>\n",
       "      <td>NaN</td>\n",
       "      <td>monthly</td>\n",
       "      <td>field_partner</td>\n",
       "    </tr>\n",
       "    <tr>\n",
       "      <th>2053973</th>\n",
       "      <td>593025</td>\n",
       "      <td>NaN</td>\n",
       "      <td>NaN</td>\n",
       "      <td>NaN</td>\n",
       "      <td>NaN</td>\n",
       "      <td>500.0</td>\n",
       "      <td>500.0</td>\n",
       "      <td>funded</td>\n",
       "      <td>NaN</td>\n",
       "      <td>NaN</td>\n",
       "      <td>Agriculture</td>\n",
       "      <td>Agriculture</td>\n",
       "      <td>NaN</td>\n",
       "      <td>ZM</td>\n",
       "      <td>Zambia</td>\n",
       "      <td>NaN</td>\n",
       "      <td>standard</td>\n",
       "      <td>NaN</td>\n",
       "      <td>ZMW</td>\n",
       "      <td>281.0</td>\n",
       "      <td>2013-08-07 13:06:18.000 +0000</td>\n",
       "      <td>2013-09-07 21:00:04.000 +0000</td>\n",
       "      <td>2013-07-30 07:00:00.000 +0000</td>\n",
       "      <td>2013-08-09 04:15:57.000 +0000</td>\n",
       "      <td>8.0</td>\n",
       "      <td>19</td>\n",
       "      <td>4</td>\n",
       "      <td>2</td>\n",
       "      <td>NaN</td>\n",
       "      <td>NaN</td>\n",
       "      <td>NaN</td>\n",
       "      <td>NaN</td>\n",
       "      <td>irregular</td>\n",
       "      <td>field_partner</td>\n",
       "    </tr>\n",
       "    <tr>\n",
       "      <th>2053978</th>\n",
       "      <td>598557</td>\n",
       "      <td>NaN</td>\n",
       "      <td>NaN</td>\n",
       "      <td>NaN</td>\n",
       "      <td>NaN</td>\n",
       "      <td>475.0</td>\n",
       "      <td>475.0</td>\n",
       "      <td>funded</td>\n",
       "      <td>NaN</td>\n",
       "      <td>NaN</td>\n",
       "      <td>Fish Selling</td>\n",
       "      <td>Food</td>\n",
       "      <td>NaN</td>\n",
       "      <td>SS</td>\n",
       "      <td>South Sudan</td>\n",
       "      <td>NaN</td>\n",
       "      <td>shared</td>\n",
       "      <td>0.1</td>\n",
       "      <td>SSP</td>\n",
       "      <td>206.0</td>\n",
       "      <td>2013-08-21 14:59:29.000 +0000</td>\n",
       "      <td>2013-10-01 14:30:01.000 +0000</td>\n",
       "      <td>2013-08-14 07:00:00.000 +0000</td>\n",
       "      <td>2013-09-02 15:45:49.000 +0000</td>\n",
       "      <td>8.0</td>\n",
       "      <td>17</td>\n",
       "      <td>3</td>\n",
       "      <td>2</td>\n",
       "      <td>user_favorite</td>\n",
       "      <td>NaN</td>\n",
       "      <td>NaN</td>\n",
       "      <td>NaN</td>\n",
       "      <td>monthly</td>\n",
       "      <td>field_partner</td>\n",
       "    </tr>\n",
       "    <tr>\n",
       "      <th>2054010</th>\n",
       "      <td>306302</td>\n",
       "      <td>NaN</td>\n",
       "      <td>NaN</td>\n",
       "      <td>NaN</td>\n",
       "      <td>NaN</td>\n",
       "      <td>2050.0</td>\n",
       "      <td>2050.0</td>\n",
       "      <td>refunded</td>\n",
       "      <td>NaN</td>\n",
       "      <td>NaN</td>\n",
       "      <td>Agriculture</td>\n",
       "      <td>Agriculture</td>\n",
       "      <td>NaN</td>\n",
       "      <td>RW</td>\n",
       "      <td>Rwanda</td>\n",
       "      <td>NaN</td>\n",
       "      <td>shared</td>\n",
       "      <td>0.2</td>\n",
       "      <td>RWF</td>\n",
       "      <td>170.0</td>\n",
       "      <td>2011-06-10 11:36:25.000 +0000</td>\n",
       "      <td>NaN</td>\n",
       "      <td>2011-06-09 07:00:00.000 +0000</td>\n",
       "      <td>2011-06-22 22:51:59.000 +0000</td>\n",
       "      <td>5.0</td>\n",
       "      <td>69</td>\n",
       "      <td>4</td>\n",
       "      <td>2</td>\n",
       "      <td>NaN</td>\n",
       "      <td>NaN</td>\n",
       "      <td>NaN</td>\n",
       "      <td>NaN</td>\n",
       "      <td>bullet</td>\n",
       "      <td>field_partner</td>\n",
       "    </tr>\n",
       "    <tr>\n",
       "      <th>2054011</th>\n",
       "      <td>646075</td>\n",
       "      <td>NaN</td>\n",
       "      <td>NaN</td>\n",
       "      <td>NaN</td>\n",
       "      <td>NaN</td>\n",
       "      <td>225.0</td>\n",
       "      <td>225.0</td>\n",
       "      <td>funded</td>\n",
       "      <td>NaN</td>\n",
       "      <td>NaN</td>\n",
       "      <td>Beverages</td>\n",
       "      <td>Food</td>\n",
       "      <td>NaN</td>\n",
       "      <td>GH</td>\n",
       "      <td>Ghana</td>\n",
       "      <td>NaN</td>\n",
       "      <td>shared</td>\n",
       "      <td>0.1</td>\n",
       "      <td>GHS</td>\n",
       "      <td>91.0</td>\n",
       "      <td>2013-12-12 15:43:23.000 +0000</td>\n",
       "      <td>2014-02-14 18:30:02.000 +0000</td>\n",
       "      <td>2013-11-28 08:00:00.000 +0000</td>\n",
       "      <td>2013-12-18 01:58:23.000 +0000</td>\n",
       "      <td>8.0</td>\n",
       "      <td>9</td>\n",
       "      <td>1</td>\n",
       "      <td>1</td>\n",
       "      <td>NaN</td>\n",
       "      <td>NaN</td>\n",
       "      <td>NaN</td>\n",
       "      <td>NaN</td>\n",
       "      <td>monthly</td>\n",
       "      <td>field_partner</td>\n",
       "    </tr>\n",
       "  </tbody>\n",
       "</table>\n",
       "<p>45886 rows × 34 columns</p>\n",
       "</div>"
      ],
      "text/plain": [
       "         loan_id loan_name original_language description  \\\n",
       "57        440362       NaN               NaN         NaN   \n",
       "132       232107       NaN               NaN         NaN   \n",
       "183       433433       NaN               NaN         NaN   \n",
       "199        16615       NaN               NaN         NaN   \n",
       "231       781422       NaN               NaN         NaN   \n",
       "...          ...       ...               ...         ...   \n",
       "2053911   238018       NaN               NaN         NaN   \n",
       "2053973   593025       NaN               NaN         NaN   \n",
       "2053978   598557       NaN               NaN         NaN   \n",
       "2054010   306302       NaN               NaN         NaN   \n",
       "2054011   646075       NaN               NaN         NaN   \n",
       "\n",
       "        description_translated  funded_amount  loan_amount    status  \\\n",
       "57                         NaN          500.0        500.0    funded   \n",
       "132                        NaN          425.0        425.0    funded   \n",
       "183                        NaN          250.0        250.0    funded   \n",
       "199                        NaN          400.0        400.0    funded   \n",
       "231                        NaN          350.0        350.0    funded   \n",
       "...                        ...            ...          ...       ...   \n",
       "2053911                    NaN          725.0        725.0    funded   \n",
       "2053973                    NaN          500.0        500.0    funded   \n",
       "2053978                    NaN          475.0        475.0    funded   \n",
       "2054010                    NaN         2050.0       2050.0  refunded   \n",
       "2054011                    NaN          225.0        225.0    funded   \n",
       "\n",
       "         image_id  video_id          activity_name     sector_name loan_use  \\\n",
       "57            NaN       NaN           Fish Selling            Food      NaN   \n",
       "132           NaN       NaN           Fish Selling            Food      NaN   \n",
       "183           NaN       NaN          General Store          Retail      NaN   \n",
       "199           NaN       NaN        Cosmetics Sales          Retail      NaN   \n",
       "231           NaN       NaN         Transportation  Transportation      NaN   \n",
       "...           ...       ...                    ...             ...      ...   \n",
       "2053911       NaN       NaN  Food Production/Sales            Food      NaN   \n",
       "2053973       NaN       NaN            Agriculture     Agriculture      NaN   \n",
       "2053978       NaN       NaN           Fish Selling            Food      NaN   \n",
       "2054010       NaN       NaN            Agriculture     Agriculture      NaN   \n",
       "2054011       NaN       NaN              Beverages            Food      NaN   \n",
       "\n",
       "        country_code country_name town_name currency_policy  \\\n",
       "57                VN      Vietnam       NaN          shared   \n",
       "132               LR      Liberia       NaN          shared   \n",
       "183               PH  Philippines       NaN          shared   \n",
       "199               TG         Togo       NaN        standard   \n",
       "231               PE         Peru       NaN          shared   \n",
       "...              ...          ...       ...             ...   \n",
       "2053911           PE         Peru       NaN          shared   \n",
       "2053973           ZM       Zambia       NaN        standard   \n",
       "2053978           SS  South Sudan       NaN          shared   \n",
       "2054010           RW       Rwanda       NaN          shared   \n",
       "2054011           GH        Ghana       NaN          shared   \n",
       "\n",
       "         currency_exchange_coverage_rate currency  partner_id  \\\n",
       "57                                   0.1      VND       172.0   \n",
       "132                                  0.2      LRD       141.0   \n",
       "183                                  0.1      PHP       128.0   \n",
       "199                                  NaN      USD        45.0   \n",
       "231                                  0.1      PEN       139.0   \n",
       "...                                  ...      ...         ...   \n",
       "2053911                              0.2      PEN        71.0   \n",
       "2053973                              NaN      ZMW       281.0   \n",
       "2053978                              0.1      SSP       206.0   \n",
       "2054010                              0.2      RWF       170.0   \n",
       "2054011                              0.1      GHS        91.0   \n",
       "\n",
       "                           posted_time        planned_expiration_time  \\\n",
       "57       2012-06-20 04:32:41.000 +0000  2012-07-21 15:00:55.000 +0000   \n",
       "132      2010-09-17 15:57:50.000 +0000                            NaN   \n",
       "183      2012-06-04 03:56:35.000 +0000  2012-07-04 14:00:10.000 +0000   \n",
       "199      2007-08-21 06:26:17.000 +0000                            NaN   \n",
       "231      2014-10-10 16:14:10.000 +0000  2014-11-21 01:00:02.000 +0000   \n",
       "...                                ...                            ...   \n",
       "2053911  2010-10-11 17:45:18.000 +0000                            NaN   \n",
       "2053973  2013-08-07 13:06:18.000 +0000  2013-09-07 21:00:04.000 +0000   \n",
       "2053978  2013-08-21 14:59:29.000 +0000  2013-10-01 14:30:01.000 +0000   \n",
       "2054010  2011-06-10 11:36:25.000 +0000                            NaN   \n",
       "2054011  2013-12-12 15:43:23.000 +0000  2014-02-14 18:30:02.000 +0000   \n",
       "\n",
       "                         disburse_time                    raised_time  \\\n",
       "57       2012-05-24 07:00:00.000 +0000  2012-06-21 20:34:39.000 +0000   \n",
       "132      2010-09-16 07:00:00.000 +0000  2010-09-20 16:51:54.000 +0000   \n",
       "183      2012-05-28 07:00:00.000 +0000  2012-06-08 19:54:35.000 +0000   \n",
       "199      2007-09-17 02:29:50.000 +0000  2007-09-03 02:29:50.000 +0000   \n",
       "231      2014-09-11 07:00:00.000 +0000  2014-10-23 06:47:58.000 +0000   \n",
       "...                                ...                            ...   \n",
       "2053911  2010-09-13 07:00:00.000 +0000  2010-10-17 02:22:27.000 +0000   \n",
       "2053973  2013-07-30 07:00:00.000 +0000  2013-08-09 04:15:57.000 +0000   \n",
       "2053978  2013-08-14 07:00:00.000 +0000  2013-09-02 15:45:49.000 +0000   \n",
       "2054010  2011-06-09 07:00:00.000 +0000  2011-06-22 22:51:59.000 +0000   \n",
       "2054011  2013-11-28 08:00:00.000 +0000  2013-12-18 01:58:23.000 +0000   \n",
       "\n",
       "         lender_term  num_lenders_total  num_journal_entries  \\\n",
       "57              11.0                 19                    2   \n",
       "132              6.0                 17                    2   \n",
       "183             12.0                 10                    2   \n",
       "199             15.0                  8                    1   \n",
       "231             14.0                 12                    1   \n",
       "...              ...                ...                  ...   \n",
       "2053911         10.0                 27                    1   \n",
       "2053973          8.0                 19                    4   \n",
       "2053978          8.0                 17                    3   \n",
       "2054010          5.0                 69                    4   \n",
       "2054011          8.0                  9                    1   \n",
       "\n",
       "         num_bulk_entries           tags borrower_names borrower_genders  \\\n",
       "57                      1            NaN            NaN              NaN   \n",
       "132                     1            NaN            NaN              NaN   \n",
       "183                     1            NaN            NaN              NaN   \n",
       "199                     1            NaN            NaN              NaN   \n",
       "231                     1            NaN            NaN              NaN   \n",
       "...                   ...            ...            ...              ...   \n",
       "2053911                 1            NaN            NaN              NaN   \n",
       "2053973                 2            NaN            NaN              NaN   \n",
       "2053978                 2  user_favorite            NaN              NaN   \n",
       "2054010                 2            NaN            NaN              NaN   \n",
       "2054011                 1            NaN            NaN              NaN   \n",
       "\n",
       "        borrower_pictured repayment_interval distribution_model  \n",
       "57                    NaN            monthly      field_partner  \n",
       "132                   NaN            monthly      field_partner  \n",
       "183                   NaN            monthly      field_partner  \n",
       "199                   NaN            monthly      field_partner  \n",
       "231                   NaN            monthly      field_partner  \n",
       "...                   ...                ...                ...  \n",
       "2053911               NaN            monthly      field_partner  \n",
       "2053973               NaN          irregular      field_partner  \n",
       "2053978               NaN            monthly      field_partner  \n",
       "2054010               NaN             bullet      field_partner  \n",
       "2054011               NaN            monthly      field_partner  \n",
       "\n",
       "[45886 rows x 34 columns]"
      ]
     },
     "execution_count": 8,
     "metadata": {},
     "output_type": "execute_result"
    }
   ],
   "source": [
    "#REMAINING NULLS\n",
    "loans[loans.description_translated.isnull()]"
   ]
  },
  {
   "cell_type": "code",
   "execution_count": 9,
   "metadata": {},
   "outputs": [],
   "source": [
    "#DROPPING THE ROWS WITHOUT DESCRIPTIONS\n",
    "loans.drop(loans[loans.description_translated.isnull()].index,inplace=True)"
   ]
  },
  {
   "cell_type": "code",
   "execution_count": 10,
   "metadata": {},
   "outputs": [],
   "source": [
    "#DROPPING THE ORIGINAL DESCRIPTION COLUMN\n",
    "loans.drop(columns='description',inplace=True)"
   ]
  },
  {
   "cell_type": "code",
   "execution_count": 11,
   "metadata": {},
   "outputs": [],
   "source": [
    "#RENAMING DESCRIPTION TRANSLATED AS DESCRIPTION FOR CLARITY\n",
    "new_columns = {'description_translated':'description'}\n",
    "loans = loans.rename(columns = new_columns)"
   ]
  },
  {
   "cell_type": "markdown",
   "metadata": {},
   "source": [
    "### TOWNS"
   ]
  },
  {
   "cell_type": "markdown",
   "metadata": {},
   "source": [
    "There was many nulls for the town_name column but 0 nulls for the country_name column. I decided to replace the nulls in the town column by their respective countries, to keep the data truthful, even if cities aren't countries, but it still tells us it's a city inside that country."
   ]
  },
  {
   "cell_type": "code",
   "execution_count": 12,
   "metadata": {},
   "outputs": [],
   "source": [
    "#SUBSET \n",
    "towns_nulls = loans[loans.town_name.isnull()]"
   ]
  },
  {
   "cell_type": "code",
   "execution_count": 13,
   "metadata": {},
   "outputs": [],
   "source": [
    "#CREATING LIST OF COUNTRY NAMES FOR THESE NULLS\n",
    "townlist = towns_nulls.country_name"
   ]
  },
  {
   "cell_type": "code",
   "execution_count": 14,
   "metadata": {},
   "outputs": [],
   "source": [
    "#USING LOC TO SET THE COUNTRIES UNDER TOWN_NAMES\n",
    "loans.loc[towns_nulls.index,'town_name'] = townlist"
   ]
  },
  {
   "cell_type": "markdown",
   "metadata": {},
   "source": [
    "### LOANS CURRENCY EXCHANGE COVERAGE RATE "
   ]
  },
  {
   "cell_type": "markdown",
   "metadata": {},
   "source": [
    "This is the column showing if a certain loan has a currency exchange coverage rate policy, or in other words, a compensation for currency fluctuations from the lender. I thought that the nulls arose for 2 reasons. The first is simply that there is no currency exchange policy happening, so no agreement between KIVA and a certain bank, and the second is that there is no need to do so as the currency dealt with is in dollars, meaning no currency exchange, so no problem. This is why I divided the nulls into 2 groups, those that had US dollars as currency and those that didn't."
   ]
  },
  {
   "cell_type": "code",
   "execution_count": 15,
   "metadata": {},
   "outputs": [
    {
     "data": {
      "text/plain": [
       "0.1    1311448\n",
       "0.2     172672\n",
       "0.0      77219\n",
       "Name: currency_exchange_coverage_rate, dtype: int64"
      ]
     },
     "execution_count": 15,
     "metadata": {},
     "output_type": "execute_result"
    }
   ],
   "source": [
    "loans.currency_exchange_coverage_rate.value_counts()"
   ]
  },
  {
   "cell_type": "code",
   "execution_count": 16,
   "metadata": {},
   "outputs": [],
   "source": [
    "#SUSBSET \n",
    "exchange_nulls = loans[loans.currency_exchange_coverage_rate.isnull()]"
   ]
  },
  {
   "cell_type": "code",
   "execution_count": 17,
   "metadata": {},
   "outputs": [],
   "source": [
    "#CATEGORISATION OF NULLS\n",
    "exchanges_list = []\n",
    "for i in exchange_nulls.currency:\n",
    "    if i == 'USD':\n",
    "        exchanges_list.append('US_dollars')\n",
    "    else:\n",
    "        exchanges_list.append(0)"
   ]
  },
  {
   "cell_type": "code",
   "execution_count": 18,
   "metadata": {},
   "outputs": [],
   "source": [
    "#CHANGING NULLS USING LOC\n",
    "loans.loc[exchange_nulls.index,'currency_exchange_coverage_rate'] = exchanges_list"
   ]
  },
  {
   "cell_type": "code",
   "execution_count": 19,
   "metadata": {},
   "outputs": [
    {
     "data": {
      "text/plain": [
       "0.1           1311448\n",
       "0              327068\n",
       "US_dollars     196967\n",
       "0.2            172672\n",
       "Name: currency_exchange_coverage_rate, dtype: int64"
      ]
     },
     "execution_count": 19,
     "metadata": {},
     "output_type": "execute_result"
    }
   ],
   "source": [
    "# NEW VALUE COUNTS \n",
    "loans.currency_exchange_coverage_rate.value_counts()"
   ]
  },
  {
   "cell_type": "markdown",
   "metadata": {},
   "source": [
    "### VIDEO"
   ]
  },
  {
   "cell_type": "markdown",
   "metadata": {},
   "source": [
    "Made a simple binary column out of the video_id column and its nulls, thanks to this function."
   ]
  },
  {
   "cell_type": "code",
   "execution_count": 20,
   "metadata": {},
   "outputs": [],
   "source": [
    "#FUNCTION\n",
    "def convertnull(i):\n",
    "    if np.isnan(i) == True:\n",
    "        return 0 \n",
    "    else:\n",
    "        return 1"
   ]
  },
  {
   "cell_type": "code",
   "execution_count": 21,
   "metadata": {},
   "outputs": [],
   "source": [
    "#APPLY\n",
    "loans['has_video'] = loans.video_id.apply(convertnull)"
   ]
  },
  {
   "cell_type": "code",
   "execution_count": 22,
   "metadata": {},
   "outputs": [],
   "source": [
    "#DROP VIDEO ID COLUMN\n",
    "loans.drop(columns='video_id',inplace=True)"
   ]
  },
  {
   "cell_type": "markdown",
   "metadata": {},
   "source": [
    "### EXPIRATION TIME"
   ]
  },
  {
   "cell_type": "markdown",
   "metadata": {},
   "source": [
    "Expiration time column had some nulls while the posted time didn't. I took the median difference between expiration time and posted time. Using the subset of expiration time nulls, I added that time to each posted_time using timedelta, appending these to a list, and modifying the nulls in the original dataframe using loc and the list. "
   ]
  },
  {
   "cell_type": "code",
   "execution_count": 23,
   "metadata": {},
   "outputs": [],
   "source": [
    "#CHANGING DTYPE\n",
    "loans['posted_time'] = pd.to_datetime(loans['posted_time'])\n",
    "loans['planned_expiration_time'] = pd.to_datetime(loans['planned_expiration_time'])"
   ]
  },
  {
   "cell_type": "code",
   "execution_count": 24,
   "metadata": {},
   "outputs": [],
   "source": [
    "#SUBSET\n",
    "expiration_time_nulls = loans[loans['planned_expiration_time'].isnull()]"
   ]
  },
  {
   "cell_type": "code",
   "execution_count": 25,
   "metadata": {},
   "outputs": [
    {
     "data": {
      "text/plain": [
       "Timedelta('34 days 12:53:25.500000')"
      ]
     },
     "execution_count": 25,
     "metadata": {},
     "output_type": "execute_result"
    }
   ],
   "source": [
    "#MEDIAN TIME\n",
    "(loans.planned_expiration_time - loans.posted_time).median()"
   ]
  },
  {
   "cell_type": "code",
   "execution_count": 26,
   "metadata": {},
   "outputs": [],
   "source": [
    "#FOR LOOP, LIST CONSTRUCTION\n",
    "dates = []\n",
    "for i in expiration_time_nulls.posted_time:\n",
    "    offset = timedelta(days=34,hours=12,minutes=53)\n",
    "    dates.append(i + offset)"
   ]
  },
  {
   "cell_type": "code",
   "execution_count": 27,
   "metadata": {},
   "outputs": [],
   "source": [
    "#CHANGING NULLS USING LOC AND LIST\n",
    "loans.loc[expiration_time_nulls.index,'planned_expiration_time'] = dates"
   ]
  },
  {
   "cell_type": "markdown",
   "metadata": {},
   "source": [
    "### LOAN USE AND LENDER TERM"
   ]
  },
  {
   "cell_type": "markdown",
   "metadata": {},
   "source": [
    "There was some negligeable amounts of nulls in these columns which I dropped."
   ]
  },
  {
   "cell_type": "code",
   "execution_count": 28,
   "metadata": {},
   "outputs": [],
   "source": [
    "#DROP NULLS\n",
    "loans.drop(loans[loans.loan_use.isnull()].index,inplace=True)"
   ]
  },
  {
   "cell_type": "code",
   "execution_count": 29,
   "metadata": {},
   "outputs": [],
   "source": [
    "#DROP NULLS\n",
    "loans.drop(loans[loans.lender_term.isnull()].index,inplace=True)"
   ]
  },
  {
   "cell_type": "code",
   "execution_count": 30,
   "metadata": {},
   "outputs": [
    {
     "data": {
      "text/plain": [
       "loan_id                                 0\n",
       "loan_name                            4346\n",
       "original_language                       0\n",
       "description                             0\n",
       "funded_amount                           0\n",
       "loan_amount                             0\n",
       "status                                  0\n",
       "image_id                                0\n",
       "activity_name                           0\n",
       "sector_name                             0\n",
       "loan_use                                0\n",
       "country_code                           34\n",
       "country_name                            0\n",
       "town_name                               0\n",
       "currency_policy                         0\n",
       "currency_exchange_coverage_rate         0\n",
       "currency                                0\n",
       "partner_id                          20394\n",
       "posted_time                             0\n",
       "planned_expiration_time                 0\n",
       "disburse_time                        3456\n",
       "raised_time                        100046\n",
       "lender_term                             0\n",
       "num_lenders_total                       0\n",
       "num_journal_entries                     0\n",
       "num_bulk_entries                        0\n",
       "tags                               901074\n",
       "borrower_names                       4346\n",
       "borrower_genders                        0\n",
       "borrower_pictured                       0\n",
       "repayment_interval                      0\n",
       "distribution_model                      0\n",
       "has_video                               0\n",
       "dtype: int64"
      ]
     },
     "execution_count": 30,
     "metadata": {},
     "output_type": "execute_result"
    }
   ],
   "source": [
    "loans.isnull().sum()"
   ]
  },
  {
   "cell_type": "markdown",
   "metadata": {},
   "source": [
    "## REDUCING VALUE COUNTS WHILE REDUCING NULLS"
   ]
  },
  {
   "cell_type": "markdown",
   "metadata": {},
   "source": [
    "We have reduced the nulls for most columns we need.\n",
    "At the same time, we can move into the second step of cleaning, which is reducing value counts. Many columns have too many values which will result into too many columns after dummification. In an effort to have better predictors and less columns, I had to reduce the values of many columns.\n",
    "For Partner ID, I reduced its value counts and categorised its nulls, since the nulls are there for a reason and not a mistake."
   ]
  },
  {
   "cell_type": "markdown",
   "metadata": {},
   "source": [
    "### PARTNER ID"
   ]
  },
  {
   "cell_type": "markdown",
   "metadata": {},
   "source": [
    "I kept the Partner ID's - or the Micro Financial Banks paired up with Kiva -  with more than 10000 loans as their own category, and those with less than 10000, to be regrouped in a same 'Medium Sized Partner' category, while those with less than 100, to be regrouped in a 'Small sized Partner' category. I put the nulls into their own category 'No Partership' as these were loans given directly to the borrower without the use of an intermediary Field Partner."
   ]
  },
  {
   "cell_type": "code",
   "execution_count": 31,
   "metadata": {},
   "outputs": [
    {
     "data": {
      "text/plain": [
       "145.0    269468\n",
       "156.0     58643\n",
       "199.0     42945\n",
       "125.0     41135\n",
       "133.0     39233\n",
       "          ...  \n",
       "486.0         1\n",
       "591.0         1\n",
       "593.0         1\n",
       "594.0         1\n",
       "511.0         1\n",
       "Name: partner_id, Length: 530, dtype: int64"
      ]
     },
     "execution_count": 31,
     "metadata": {},
     "output_type": "execute_result"
    }
   ],
   "source": [
    "loans.partner_id.value_counts()"
   ]
  },
  {
   "cell_type": "code",
   "execution_count": 32,
   "metadata": {},
   "outputs": [],
   "source": [
    "big_guys = loans.partner_id.value_counts().head(49).index\n",
    "small_guys = loans.partner_id.value_counts().tail(339).index"
   ]
  },
  {
   "cell_type": "code",
   "execution_count": 33,
   "metadata": {},
   "outputs": [],
   "source": [
    "#FUNCTION\n",
    "def partners(l):\n",
    "    if l in big_guys:\n",
    "        return l #10000 or more : OWN CATEGORY\n",
    "    if l in loans.partner_id.value_counts().head(191).index:\n",
    "        return('Medium sized partner') # < 10000\n",
    "    if l in small_guys:\n",
    "        return('Small sized partner')# < 100\n",
    "    elif np.isnan(l) == True:\n",
    "        return('No Partnership') # no need of Field Partners"
   ]
  },
  {
   "cell_type": "code",
   "execution_count": 34,
   "metadata": {},
   "outputs": [],
   "source": [
    "#APPLY\n",
    "loans['field_partners'] = loans.partner_id.apply(partners);"
   ]
  },
  {
   "cell_type": "code",
   "execution_count": 35,
   "metadata": {},
   "outputs": [],
   "source": [
    "#DROP ORIGINAL PARTNER ID COLUMN\n",
    "loans.drop(columns='partner_id',inplace=True)"
   ]
  },
  {
   "cell_type": "code",
   "execution_count": 36,
   "metadata": {},
   "outputs": [
    {
     "data": {
      "text/plain": [
       "Medium sized partner    579105\n",
       "145.0                   269468\n",
       "156.0                    58643\n",
       "Small sized partner      52596\n",
       "199.0                    42945\n",
       "125.0                    41135\n",
       "133.0                    39233\n",
       "123.0                    38724\n",
       "177.0                    38247\n",
       "58.0                     34708\n",
       "100.0                    30015\n",
       "119.0                    29338\n",
       "63.0                     28966\n",
       "137.0                    28965\n",
       "311.0                    28753\n",
       "126.0                    26309\n",
       "138.0                    25279\n",
       "163.0                    25264\n",
       "15.0                     24089\n",
       "202.0                    23931\n",
       "247.0                    23784\n",
       "164.0                    23715\n",
       "81.0                     21169\n",
       "167.0                    21121\n",
       "136.0                    21108\n",
       "71.0                     20730\n",
       "No Partnership           20394\n",
       "204.0                    19678\n",
       "77.0                     19498\n",
       "245.0                    19217\n",
       "288.0                    18444\n",
       "182.0                    18396\n",
       "65.0                     18231\n",
       "9.0                      18118\n",
       "428.0                    18057\n",
       "121.0                    17590\n",
       "222.0                    17362\n",
       "154.0                    16976\n",
       "144.0                    16508\n",
       "80.0                     16254\n",
       "171.0                    15980\n",
       "296.0                    14166\n",
       "106.0                    13826\n",
       "143.0                    13779\n",
       "128.0                    13639\n",
       "161.0                    13524\n",
       "386.0                    13200\n",
       "87.0                     12275\n",
       "176.0                    12101\n",
       "188.0                    11865\n",
       "185.0                    11464\n",
       "78.0                     10238\n",
       "Name: field_partners, dtype: int64"
      ]
     },
     "execution_count": 36,
     "metadata": {},
     "output_type": "execute_result"
    }
   ],
   "source": [
    "#NEW VALUE COUNTS\n",
    "loans.field_partners.value_counts()"
   ]
  },
  {
   "cell_type": "markdown",
   "metadata": {},
   "source": [
    "The columns left with nulls will be dropped."
   ]
  },
  {
   "cell_type": "code",
   "execution_count": 37,
   "metadata": {},
   "outputs": [
    {
     "data": {
      "text/plain": [
       "loan_id                                 0\n",
       "loan_name                            4346\n",
       "original_language                       0\n",
       "description                             0\n",
       "funded_amount                           0\n",
       "loan_amount                             0\n",
       "status                                  0\n",
       "image_id                                0\n",
       "activity_name                           0\n",
       "sector_name                             0\n",
       "loan_use                                0\n",
       "country_code                           34\n",
       "country_name                            0\n",
       "town_name                               0\n",
       "currency_policy                         0\n",
       "currency_exchange_coverage_rate         0\n",
       "currency                                0\n",
       "posted_time                             0\n",
       "planned_expiration_time                 0\n",
       "disburse_time                        3456\n",
       "raised_time                        100046\n",
       "lender_term                             0\n",
       "num_lenders_total                       0\n",
       "num_journal_entries                     0\n",
       "num_bulk_entries                        0\n",
       "tags                               901074\n",
       "borrower_names                       4346\n",
       "borrower_genders                        0\n",
       "borrower_pictured                       0\n",
       "repayment_interval                      0\n",
       "distribution_model                      0\n",
       "has_video                               0\n",
       "field_partners                          0\n",
       "dtype: int64"
      ]
     },
     "execution_count": 37,
     "metadata": {},
     "output_type": "execute_result"
    }
   ],
   "source": [
    "loans.isnull().sum()"
   ]
  },
  {
   "cell_type": "markdown",
   "metadata": {},
   "source": [
    "# REDUCING VALUE COUNTS AND FEATURE ENGINEERING"
   ]
  },
  {
   "cell_type": "markdown",
   "metadata": {},
   "source": [
    "Let's formally move to the second part of cleaning: reducing value counts."
   ]
  },
  {
   "cell_type": "markdown",
   "metadata": {},
   "source": [
    "### NUMBER OF BORROWERS"
   ]
  },
  {
   "cell_type": "markdown",
   "metadata": {},
   "source": [
    "The borrower_genders column looked like this, giving the precise amount of individuals per group, so I created a new column number_of_borrowers out of it. "
   ]
  },
  {
   "cell_type": "code",
   "execution_count": 38,
   "metadata": {},
   "outputs": [
    {
     "data": {
      "text/plain": [
       "female                                                                                                                                                                                                                                      1316439\n",
       "male                                                                                                                                                                                                                                         416394\n",
       "female, female, female                                                                                                                                                                                                                        27976\n",
       "female, female                                                                                                                                                                                                                                27858\n",
       "female, female, female, female                                                                                                                                                                                                                21458\n",
       "                                                                                                                                                                                                                                             ...   \n",
       "female, male, female, female, male, female, female, female, female, male, female, male, female, female, male, female, female, female, female, male, female, female, male, female, female, female, female, female, female, female, female          1\n",
       "female, female, male, female, female, female, male, male, female, female, female, female, female, female, female, female, male, female, male, female                                                                                              1\n",
       "male, male, male, male, male, female, female, female, female, male, male, male, male, male, female                                                                                                                                                1\n",
       "male, male, male, male, female, female, male, male, female, female, male, male, female, male                                                                                                                                                      1\n",
       "male, female, female, male, female, female, female, female, female, female, female, female, female, female, female, female, female, female, female, female                                                                                        1\n",
       "Name: borrower_genders, Length: 24916, dtype: int64"
      ]
     },
     "execution_count": 38,
     "metadata": {},
     "output_type": "execute_result"
    }
   ],
   "source": [
    "loans.borrower_genders.value_counts()"
   ]
  },
  {
   "cell_type": "code",
   "execution_count": 39,
   "metadata": {},
   "outputs": [],
   "source": [
    "#LAMBDA FUNCTION\n",
    "loans['number_of_borrowers'] = loans.borrower_genders.apply(lambda x: len(x.split()))"
   ]
  },
  {
   "cell_type": "code",
   "execution_count": 40,
   "metadata": {},
   "outputs": [
    {
     "data": {
      "text/plain": [
       "1     1732885\n",
       "3       38233\n",
       "2       36724\n",
       "5       34617\n",
       "4       32228\n",
       "10      15692\n",
       "8       14249\n",
       "6       13779\n",
       "7       11661\n",
       "9       10459\n",
       "Name: number_of_borrowers, dtype: int64"
      ]
     },
     "execution_count": 40,
     "metadata": {},
     "output_type": "execute_result"
    }
   ],
   "source": [
    "#NEW COLUMN\n",
    "loans.number_of_borrowers.value_counts().head(10)"
   ]
  },
  {
   "cell_type": "markdown",
   "metadata": {},
   "source": [
    "### BORROWER GENDERS"
   ]
  },
  {
   "cell_type": "markdown",
   "metadata": {},
   "source": [
    "Looking like that, I knew that I needed to reduce the value counts of borrower_genders. So I thought to be appropriate to have a resulting column with 6 values: male, female, low percentage of group with males, high percentages of group with males, groups of males, groups of females. \n",
    "\n",
    "To do this I wrote a function counting the number of males per value in the column and created a new feature num_of_males out of it. Then I created another feature by dividing num_of_males by num_of_borrowers to have the percentage of males per group."
   ]
  },
  {
   "cell_type": "code",
   "execution_count": 41,
   "metadata": {},
   "outputs": [
    {
     "data": {
      "text/plain": [
       "female                                                                                                                                                                                                                                      1316439\n",
       "male                                                                                                                                                                                                                                         416394\n",
       "female, female, female                                                                                                                                                                                                                        27976\n",
       "female, female                                                                                                                                                                                                                                27858\n",
       "female, female, female, female                                                                                                                                                                                                                21458\n",
       "                                                                                                                                                                                                                                             ...   \n",
       "female, male, female, female, male, female, female, female, female, male, female, male, female, female, male, female, female, female, female, male, female, female, male, female, female, female, female, female, female, female, female          1\n",
       "female, female, male, female, female, female, male, male, female, female, female, female, female, female, female, female, male, female, male, female                                                                                              1\n",
       "male, male, male, male, male, female, female, female, female, male, male, male, male, male, female                                                                                                                                                1\n",
       "male, male, male, male, female, female, male, male, female, female, male, male, female, male                                                                                                                                                      1\n",
       "male, female, female, male, female, female, female, female, female, female, female, female, female, female, female, female, female, female, female, female                                                                                        1\n",
       "Name: borrower_genders, Length: 24916, dtype: int64"
      ]
     },
     "execution_count": 41,
     "metadata": {},
     "output_type": "execute_result"
    }
   ],
   "source": [
    "loans.borrower_genders.value_counts()"
   ]
  },
  {
   "cell_type": "code",
   "execution_count": 42,
   "metadata": {},
   "outputs": [],
   "source": [
    "#FUNCTION\n",
    "def genders(l):\n",
    "    k = 0\n",
    "    for i in l.split(','):\n",
    "        if i == ' male' or i == 'male':\n",
    "            k += 1\n",
    "    return k \n",
    "      "
   ]
  },
  {
   "cell_type": "code",
   "execution_count": 43,
   "metadata": {},
   "outputs": [
    {
     "data": {
      "text/plain": [
       "2"
      ]
     },
     "execution_count": 43,
     "metadata": {},
     "output_type": "execute_result"
    }
   ],
   "source": [
    "genders('male, male, female, female')"
   ]
  },
  {
   "cell_type": "code",
   "execution_count": 44,
   "metadata": {},
   "outputs": [],
   "source": [
    "#APPLY\n",
    "#NEW COLUMN\n",
    "loans['num_of_males'] = loans.borrower_genders.apply(genders)"
   ]
  },
  {
   "cell_type": "code",
   "execution_count": 45,
   "metadata": {},
   "outputs": [
    {
     "data": {
      "text/plain": [
       "0     1477870\n",
       "1      456119\n",
       "2       22857\n",
       "3       15483\n",
       "4       10514\n",
       "5        7856\n",
       "6        5364\n",
       "7        3775\n",
       "8        2646\n",
       "9        1704\n",
       "10       1236\n",
       "11        767\n",
       "12        506\n",
       "13        404\n",
       "14        277\n",
       "Name: num_of_males, dtype: int64"
      ]
     },
     "execution_count": 45,
     "metadata": {},
     "output_type": "execute_result"
    }
   ],
   "source": [
    "loans.num_of_males.value_counts().head(15)"
   ]
  },
  {
   "cell_type": "code",
   "execution_count": 46,
   "metadata": {},
   "outputs": [],
   "source": [
    "#NEW COLUMN\n",
    "loans['percentage_of_males'] = loans.num_of_males / loans.number_of_borrowers"
   ]
  },
  {
   "cell_type": "code",
   "execution_count": 47,
   "metadata": {},
   "outputs": [
    {
     "data": {
      "text/plain": [
       "0.000000    1477870\n",
       "1.000000     424615\n",
       "0.500000      13026\n",
       "0.333333       9798\n",
       "0.250000       8923\n",
       "             ...   \n",
       "0.369565          1\n",
       "0.896552          1\n",
       "0.617647          1\n",
       "0.771429          1\n",
       "0.108108          1\n",
       "Name: percentage_of_males, Length: 479, dtype: int64"
      ]
     },
     "execution_count": 47,
     "metadata": {},
     "output_type": "execute_result"
    }
   ],
   "source": [
    "loans.percentage_of_males.value_counts()"
   ]
  },
  {
   "cell_type": "markdown",
   "metadata": {},
   "source": [
    "Looking at the percentage of males column, the loans with 0.000 are loans taken by a female or group of females, the loans 1.0000 are loans taken by a man or group of mans, and the loans with values ranging from 0 to 1 are loans taken by a mixed group. \n",
    "\n",
    "I created a custom function accordingly to return a column with males, female, and 2 groups of groups: low percentage and high percentage of groups with males, by taking the mean of the values between 0 and 1."
   ]
  },
  {
   "cell_type": "code",
   "execution_count": 48,
   "metadata": {},
   "outputs": [
    {
     "data": {
      "text/plain": [
       "0.35517323258764366"
      ]
     },
     "execution_count": 48,
     "metadata": {},
     "output_type": "execute_result"
    }
   ],
   "source": [
    "#MEAN OF VALUES\n",
    "loans[(loans.percentage_of_males > 0.000001) & (loans.percentage_of_males < 0.999999)].percentage_of_males.mean()"
   ]
  },
  {
   "cell_type": "code",
   "execution_count": 49,
   "metadata": {},
   "outputs": [],
   "source": [
    "#CUSTOM FUNCTION\n",
    "def male_percentage(l):\n",
    "    if l == 0.000000:\n",
    "        return 'female'\n",
    "    elif 0.00001 < l < 0.35517323258764366:\n",
    "        return 'low percentage of male group'\n",
    "    elif 0.35517323258764366 < l < 0.99999999:\n",
    "        return 'high percentage of male group'\n",
    "    else:\n",
    "        return 'male'\n"
   ]
  },
  {
   "cell_type": "code",
   "execution_count": 50,
   "metadata": {},
   "outputs": [],
   "source": [
    "#APPLY\n",
    "loans['gender_categories'] = loans.percentage_of_males.apply(male_percentage)"
   ]
  },
  {
   "cell_type": "code",
   "execution_count": 51,
   "metadata": {},
   "outputs": [
    {
     "data": {
      "text/plain": [
       "female                           1477870\n",
       "male                              424615\n",
       "low percentage of male group       60243\n",
       "high percentage of male group      45392\n",
       "Name: gender_categories, dtype: int64"
      ]
     },
     "execution_count": 51,
     "metadata": {},
     "output_type": "execute_result"
    }
   ],
   "source": [
    "loans.gender_categories.value_counts()"
   ]
  },
  {
   "cell_type": "markdown",
   "metadata": {},
   "source": [
    "The female value takes into account females and groups of females, the male value takes into account males and groups of males. I create 2 other categories by using subsets, pandas and loc on the main dataset."
   ]
  },
  {
   "cell_type": "code",
   "execution_count": 52,
   "metadata": {},
   "outputs": [],
   "source": [
    "#SUBSET\n",
    "males = loans[loans.gender_categories == 'male']      "
   ]
  },
  {
   "cell_type": "code",
   "execution_count": 53,
   "metadata": {},
   "outputs": [],
   "source": [
    "#LOC\n",
    "loans.loc[males[males.number_of_borrowers > 1].index,'gender_categories'] = 'group_of_males'"
   ]
  },
  {
   "cell_type": "code",
   "execution_count": 54,
   "metadata": {},
   "outputs": [],
   "source": [
    "#SUBSET\n",
    "females = loans[loans.gender_categories == 'female']"
   ]
  },
  {
   "cell_type": "code",
   "execution_count": 55,
   "metadata": {},
   "outputs": [],
   "source": [
    "#LOC\n",
    "loans.loc[females[females.number_of_borrowers > 1].index,'gender_categories'] = 'group_of_females'"
   ]
  },
  {
   "cell_type": "code",
   "execution_count": 56,
   "metadata": {},
   "outputs": [
    {
     "data": {
      "text/plain": [
       "female                           1316491\n",
       "male                              416394\n",
       "group_of_females                  161379\n",
       "low percentage of male group       60243\n",
       "high percentage of male group      45392\n",
       "group_of_males                      8221\n",
       "Name: gender_categories, dtype: int64"
      ]
     },
     "execution_count": 56,
     "metadata": {},
     "output_type": "execute_result"
    }
   ],
   "source": [
    "#5 categories\n",
    "loans.gender_categories.value_counts()"
   ]
  },
  {
   "cell_type": "code",
   "execution_count": 57,
   "metadata": {},
   "outputs": [],
   "source": [
    "loans.drop(columns=['num_of_males','percentage_of_males','borrower_genders'],inplace=True)"
   ]
  },
  {
   "cell_type": "markdown",
   "metadata": {},
   "source": [
    "I drop the 3 columns that I used to create this final feature as they are redundant or useless."
   ]
  },
  {
   "cell_type": "markdown",
   "metadata": {},
   "source": [
    "### TOWNS"
   ]
  },
  {
   "cell_type": "markdown",
   "metadata": {},
   "source": [
    "Too many values, once again cut down using a custom function. I thought I would keep the first 300 cities and put the rest into a category 'village'."
   ]
  },
  {
   "cell_type": "code",
   "execution_count": 58,
   "metadata": {},
   "outputs": [
    {
     "data": {
      "text/plain": [
       "El Salvador                                           37175\n",
       "Kaduna                                                18446\n",
       "CUSCO                                                 16591\n",
       "Rwanda                                                16314\n",
       "Lahore                                                14449\n",
       "                                                      ...  \n",
       "Hartsdale                                                 1\n",
       "Top Center ,Mafeteng, Ha Rannakwe                         1\n",
       "Sarali                                                    1\n",
       "Boeng Veng Village, Kraing Leav Commune,Rolea Pe E        1\n",
       "La Torre North, Bayombong, Nueva Vizcaya                  1\n",
       "Name: town_name, Length: 28491, dtype: int64"
      ]
     },
     "execution_count": 58,
     "metadata": {},
     "output_type": "execute_result"
    }
   ],
   "source": [
    "loans.town_name.value_counts()"
   ]
  },
  {
   "cell_type": "code",
   "execution_count": 59,
   "metadata": {},
   "outputs": [],
   "source": [
    "#FUNCTION\n",
    "bigtowns = list(loans.town_name.value_counts().head(300).index)\n",
    "def towns(i):\n",
    "    if i in bigtowns:\n",
    "        return i\n",
    "    else:\n",
    "        return 'Village'\n",
    "loans['town_name'] = loans.town_name.apply(towns)"
   ]
  },
  {
   "cell_type": "code",
   "execution_count": 60,
   "metadata": {},
   "outputs": [
    {
     "data": {
      "text/plain": [
       "Village                          920775\n",
       "El Salvador                       37175\n",
       "Kaduna                            18446\n",
       "CUSCO                             16591\n",
       "Rwanda                            16314\n",
       "                                  ...  \n",
       "PONTEVEDRA, NEGROS OCCIDENTAL      1538\n",
       "Nadia                              1531\n",
       "Huaycan                            1528\n",
       "Kilifi                             1525\n",
       "Kabul Afghanistan                  1516\n",
       "Name: town_name, Length: 301, dtype: int64"
      ]
     },
     "execution_count": 60,
     "metadata": {},
     "output_type": "execute_result"
    }
   ],
   "source": [
    "loans.town_name.value_counts()"
   ]
  },
  {
   "cell_type": "markdown",
   "metadata": {},
   "source": [
    "### BORROWER PICTURED"
   ]
  },
  {
   "cell_type": "markdown",
   "metadata": {},
   "source": [
    "After looking at these value counts, I decided I wanted four categories out of this : single pictures, groups whose members are all pictured, groups which have more members pictured, and groups which had less members pictured.\n",
    "\n",
    "I did that first with a custom function dividing the number of \"falses\", or a person not pictured, with the number of people in the group. "
   ]
  },
  {
   "cell_type": "code",
   "execution_count": 61,
   "metadata": {},
   "outputs": [
    {
     "data": {
      "text/plain": [
       "true                                                                                                                                                                                                                                      1732885\n",
       "true, true, true                                                                                                                                                                                                                            38233\n",
       "true, true                                                                                                                                                                                                                                  36724\n",
       "true, true, true, true, true                                                                                                                                                                                                                34617\n",
       "true, true, true, true                                                                                                                                                                                                                      32228\n",
       "                                                                                                                                                                                                                                           ...   \n",
       "true, true, true, true, true, true, true, true, true, true, false, true, false, true, true, true, true, true, true, true, true, true                                                                                                            1\n",
       "true, true, true, true, true, true, true, false, true, true, true, true, true, true, true, true, true, true, true, true, true, false, true, true, false, true, true, true, true, true, true, true, true, true, false, true, true, true          1\n",
       "true, true, true, true, false, true, false, true, true, true, true, true, true, true, true, true, false, true, true, true, true, true, true, true, true, true, true, true, true, true, true, true, true, true                                   1\n",
       "true, true, true, true, true, true, true, true, true, true, true, true, true, true, true, true, true, true, true, true, true, false, true, true, true, true, true, true, true, true, true, true, true, true, true, true, true                   1\n",
       "true, true, false, true, true, true, true, true, true, true, true, false, true, true, true, true, true, true, true                                                                                                                              1\n",
       "Name: borrower_pictured, Length: 7863, dtype: int64"
      ]
     },
     "execution_count": 61,
     "metadata": {},
     "output_type": "execute_result"
    }
   ],
   "source": [
    "loans.borrower_pictured.value_counts()"
   ]
  },
  {
   "cell_type": "code",
   "execution_count": 62,
   "metadata": {},
   "outputs": [],
   "source": [
    "#FUNCTION\n",
    "def pictures(l):\n",
    "    k = 0\n",
    "    if (len(l.split()) == 1) & (l == 'true'):\n",
    "        return 0\n",
    "    for i in l.split(','):\n",
    "        if i == ' false' or i == 'false':\n",
    "            k += 1 \n",
    "    return k / len(l.split())\n",
    "      "
   ]
  },
  {
   "cell_type": "code",
   "execution_count": 63,
   "metadata": {},
   "outputs": [
    {
     "data": {
      "text/plain": [
       "0.3333333333333333"
      ]
     },
     "execution_count": 63,
     "metadata": {},
     "output_type": "execute_result"
    }
   ],
   "source": [
    "pictures('false, true, true')"
   ]
  },
  {
   "cell_type": "code",
   "execution_count": 64,
   "metadata": {},
   "outputs": [],
   "source": [
    "#APPLY\n",
    "loans.borrower_pictured = loans.borrower_pictured.apply(pictures)"
   ]
  },
  {
   "cell_type": "code",
   "execution_count": 65,
   "metadata": {},
   "outputs": [
    {
     "data": {
      "text/plain": [
       "0.000000    1972533\n",
       "0.166667       2948\n",
       "0.142857       2696\n",
       "0.125000       2661\n",
       "0.100000       2462\n",
       "             ...   \n",
       "0.152174          1\n",
       "0.222222          1\n",
       "0.163265          1\n",
       "0.155556          1\n",
       "0.102041          1\n",
       "Name: borrower_pictured, Length: 135, dtype: int64"
      ]
     },
     "execution_count": 65,
     "metadata": {},
     "output_type": "execute_result"
    }
   ],
   "source": [
    "loans.borrower_pictured.value_counts()"
   ]
  },
  {
   "cell_type": "markdown",
   "metadata": {},
   "source": [
    "I used the same methods as I did with borrower_genders to split this into four categories.\n",
    "\n",
    "I first created a custom function using the mean of the values between 0 and 1 to divide the groups into groups with less people pictured and groups with more people pictured.\n",
    "\n",
    "I also knew that a 0.00000 value meant its or a single picture or a group were everyone is pictured, so I made sure to make the distinction, using subsets and loc.\n"
   ]
  },
  {
   "cell_type": "code",
   "execution_count": 66,
   "metadata": {},
   "outputs": [
    {
     "data": {
      "text/plain": [
       "0.1174378490387843"
      ]
     },
     "execution_count": 66,
     "metadata": {},
     "output_type": "execute_result"
    }
   ],
   "source": [
    "loans[(loans.borrower_pictured > 0.000001) & (loans.borrower_pictured < 0.999999)].borrower_pictured.mean()"
   ]
  },
  {
   "cell_type": "code",
   "execution_count": 67,
   "metadata": {},
   "outputs": [],
   "source": [
    "#FUNCTION\n",
    "def pics_percentage(l):\n",
    "    if l == 0.000000:\n",
    "        return 'single pic'\n",
    "    elif 0.00001 < l < 0.11743800516925956:\n",
    "        return 'group with most pics'\n",
    "    elif 0.11743800516925956 < l < 0.99999999:\n",
    "        return 'groups with less pics'"
   ]
  },
  {
   "cell_type": "code",
   "execution_count": 68,
   "metadata": {},
   "outputs": [],
   "source": [
    "#APPLY\n",
    "loans['borrower_pictured'] = loans.borrower_pictured.apply(pics_percentage)"
   ]
  },
  {
   "cell_type": "code",
   "execution_count": 69,
   "metadata": {},
   "outputs": [
    {
     "data": {
      "text/plain": [
       "single pic               1972533\n",
       "group with most pics       17919\n",
       "groups with less pics      17668\n",
       "Name: borrower_pictured, dtype: int64"
      ]
     },
     "execution_count": 69,
     "metadata": {},
     "output_type": "execute_result"
    }
   ],
   "source": [
    "loans.borrower_pictured.value_counts()"
   ]
  },
  {
   "cell_type": "code",
   "execution_count": 70,
   "metadata": {},
   "outputs": [],
   "source": [
    "#SUBSET\n",
    "sgwithpic = loans[loans.borrower_pictured == 'single pic']"
   ]
  },
  {
   "cell_type": "code",
   "execution_count": 71,
   "metadata": {},
   "outputs": [],
   "source": [
    "#LOC\n",
    "loans.loc[sgwithpic[sgwithpic.number_of_borrowers > 1].index,'borrower_pictured'] = 'group with all pics'"
   ]
  },
  {
   "cell_type": "code",
   "execution_count": 72,
   "metadata": {},
   "outputs": [
    {
     "data": {
      "text/plain": [
       "single pic               1732885\n",
       "group with all pics       239648\n",
       "group with most pics       17919\n",
       "groups with less pics      17668\n",
       "Name: borrower_pictured, dtype: int64"
      ]
     },
     "execution_count": 72,
     "metadata": {},
     "output_type": "execute_result"
    }
   ],
   "source": [
    "# 4 categories\n",
    "loans.borrower_pictured.value_counts()"
   ]
  },
  {
   "cell_type": "markdown",
   "metadata": {},
   "source": [
    "### DAYS OF CAMPAIGN DURATION"
   ]
  },
  {
   "cell_type": "markdown",
   "metadata": {},
   "source": [
    "I also realised I could feature engineer a column displaying the number of days a certain loan was on campaign. I did that by taking the difference between the expired time and posted time. Then I took specfically the days using datetime."
   ]
  },
  {
   "cell_type": "code",
   "execution_count": 73,
   "metadata": {},
   "outputs": [],
   "source": [
    "loans['posted_time'] = pd.to_datetime(loans['posted_time'])\n",
    "loans['planned_expiration_time'] = pd.to_datetime(loans['planned_expiration_time'])\n",
    "#NEW COLUMN\n",
    "loans['campaign_duration'] = loans.planned_expiration_time - loans.posted_time"
   ]
  },
  {
   "cell_type": "code",
   "execution_count": 74,
   "metadata": {},
   "outputs": [
    {
     "data": {
      "text/plain": [
       "34 days 12:53:00    357113\n",
       "30 days 00:09:31        25\n",
       "30 days 00:09:41        24\n",
       "30 days 00:05:00        24\n",
       "30 days 00:05:35        23\n",
       "                     ...  \n",
       "63 days 09:27:51         1\n",
       "36 days 05:04:21         1\n",
       "37 days 16:29:22         1\n",
       "34 days 06:54:34         1\n",
       "42 days 15:46:22         1\n",
       "Name: campaign_duration, Length: 951767, dtype: int64"
      ]
     },
     "execution_count": 74,
     "metadata": {},
     "output_type": "execute_result"
    }
   ],
   "source": [
    "loans.campaign_duration.value_counts()"
   ]
  },
  {
   "cell_type": "code",
   "execution_count": 75,
   "metadata": {},
   "outputs": [],
   "source": [
    "#DATETIME\n",
    "loans['days_of_campaign_duration'] = loans.campaign_duration.dt.days"
   ]
  },
  {
   "cell_type": "code",
   "execution_count": 76,
   "metadata": {},
   "outputs": [],
   "source": [
    "loans.drop(columns = 'campaign_duration', inplace=True)"
   ]
  },
  {
   "cell_type": "code",
   "execution_count": 77,
   "metadata": {},
   "outputs": [
    {
     "data": {
      "text/plain": [
       "34      511439\n",
       "30      215123\n",
       "32      179168\n",
       "33      172569\n",
       "31      167273\n",
       "         ...  \n",
       "1464         1\n",
       "1474         1\n",
       "1480         1\n",
       "462          1\n",
       "1029         1\n",
       "Name: days_of_campaign_duration, Length: 732, dtype: int64"
      ]
     },
     "execution_count": 77,
     "metadata": {},
     "output_type": "execute_result"
    }
   ],
   "source": [
    "loans.days_of_campaign_duration.value_counts()"
   ]
  },
  {
   "cell_type": "markdown",
   "metadata": {},
   "source": [
    "##  THE TARGET VARIABLE - STATUS"
   ]
  },
  {
   "cell_type": "markdown",
   "metadata": {},
   "source": [
    "Let's have a look at the value counts of the target variable."
   ]
  },
  {
   "cell_type": "code",
   "execution_count": 78,
   "metadata": {},
   "outputs": [
    {
     "data": {
      "text/plain": [
       "funded         0.950178\n",
       "expired        0.045821\n",
       "fundRaising    0.004000\n",
       "Name: status, dtype: float64"
      ]
     },
     "execution_count": 78,
     "metadata": {},
     "output_type": "execute_result"
    }
   ],
   "source": [
    "loans.status.value_counts(normalize=True)"
   ]
  },
  {
   "cell_type": "markdown",
   "metadata": {},
   "source": [
    "I dropped the loans still fundraising as we still can't learn from these recent loans, leaving this a binary classification problem. "
   ]
  },
  {
   "cell_type": "code",
   "execution_count": 79,
   "metadata": {},
   "outputs": [],
   "source": [
    "loans.drop(loans[loans.status == 'fundRaising'].index,inplace=True)"
   ]
  },
  {
   "cell_type": "code",
   "execution_count": 80,
   "metadata": {},
   "outputs": [
    {
     "data": {
      "text/plain": [
       "funded     0.953995\n",
       "expired    0.046005\n",
       "Name: status, dtype: float64"
      ]
     },
     "execution_count": 80,
     "metadata": {},
     "output_type": "execute_result"
    }
   ],
   "source": [
    "loans.status.value_counts(normalize=True)"
   ]
  },
  {
   "cell_type": "markdown",
   "metadata": {},
   "source": [
    "Since I will first do some Exploratory Data Analysis, I will set the 'funded' majority class as the positive value to display percentages funded. However, once I've finished with my EDA, I will set the minority 'expired' class as positive for the modelling."
   ]
  },
  {
   "cell_type": "code",
   "execution_count": 81,
   "metadata": {},
   "outputs": [],
   "source": [
    "loans['status'] = loans.status.map(lambda x: 0 if 'expired' in x else 1)"
   ]
  },
  {
   "cell_type": "code",
   "execution_count": 82,
   "metadata": {},
   "outputs": [
    {
     "data": {
      "text/plain": [
       "1    0.953995\n",
       "0    0.046005\n",
       "Name: status, dtype: float64"
      ]
     },
     "execution_count": 82,
     "metadata": {},
     "output_type": "execute_result"
    }
   ],
   "source": [
    "loans.status.value_counts(normalize=True)"
   ]
  },
  {
   "cell_type": "markdown",
   "metadata": {},
   "source": [
    "## REMOVING USELESS COLUMNS"
   ]
  },
  {
   "cell_type": "code",
   "execution_count": 83,
   "metadata": {},
   "outputs": [
    {
     "name": "stdout",
     "output_type": "stream",
     "text": [
      "<class 'pandas.core.frame.DataFrame'>\n",
      "Int64Index: 2000087 entries, 0 to 2054040\n",
      "Data columns (total 35 columns):\n",
      " #   Column                           Dtype              \n",
      "---  ------                           -----              \n",
      " 0   loan_id                          int64              \n",
      " 1   loan_name                        object             \n",
      " 2   original_language                object             \n",
      " 3   description                      object             \n",
      " 4   funded_amount                    float64            \n",
      " 5   loan_amount                      float64            \n",
      " 6   status                           int64              \n",
      " 7   image_id                         float64            \n",
      " 8   activity_name                    object             \n",
      " 9   sector_name                      object             \n",
      " 10  loan_use                         object             \n",
      " 11  country_code                     object             \n",
      " 12  country_name                     object             \n",
      " 13  town_name                        object             \n",
      " 14  currency_policy                  object             \n",
      " 15  currency_exchange_coverage_rate  object             \n",
      " 16  currency                         object             \n",
      " 17  posted_time                      datetime64[ns, UTC]\n",
      " 18  planned_expiration_time          datetime64[ns, UTC]\n",
      " 19  disburse_time                    object             \n",
      " 20  raised_time                      object             \n",
      " 21  lender_term                      float64            \n",
      " 22  num_lenders_total                int64              \n",
      " 23  num_journal_entries              int64              \n",
      " 24  num_bulk_entries                 int64              \n",
      " 25  tags                             object             \n",
      " 26  borrower_names                   object             \n",
      " 27  borrower_pictured                object             \n",
      " 28  repayment_interval               object             \n",
      " 29  distribution_model               object             \n",
      " 30  has_video                        int64              \n",
      " 31  field_partners                   object             \n",
      " 32  number_of_borrowers              int64              \n",
      " 33  gender_categories                object             \n",
      " 34  days_of_campaign_duration        int64              \n",
      "dtypes: datetime64[ns, UTC](2), float64(4), int64(8), object(21)\n",
      "memory usage: 549.3+ MB\n"
     ]
    }
   ],
   "source": [
    "loans.info()"
   ]
  },
  {
   "cell_type": "code",
   "execution_count": 84,
   "metadata": {},
   "outputs": [],
   "source": [
    "loans['disburse_time'] = pd.to_datetime(loans['disburse_time'])\n",
    "loans['disburse_status'] = loans.disburse_time"
   ]
  },
  {
   "cell_type": "code",
   "execution_count": 85,
   "metadata": {},
   "outputs": [],
   "source": [
    "before_posting = loans[loans.posted_time > loans.disburse_time]\n",
    "loans.loc[loans[loans.posted_time < loans.disburse_time].index,'disburse_status'] = 'disbursal_after_posting'\n",
    "loans.loc[before_posting[(before_posting.posted_time - before_posting.disburse_time) >= '16 days 20:31:16'].index,'disburse_status'] = 'disbursal_16_days_or_more_before_posting'\n",
    "loans.loc[before_posting[(before_posting.posted_time - before_posting.disburse_time) < '16 days 20:31:16'].index,'disburse_status'] = 'disbursal_16_days_or_less_before_posting'\n",
    "loans.loc[loans[loans.disburse_time.isnull()].index,'disburse_status'] = 'no_disbursal'"
   ]
  },
  {
   "cell_type": "code",
   "execution_count": 86,
   "metadata": {},
   "outputs": [
    {
     "data": {
      "text/plain": [
       "disbursal_16_days_or_less_before_posting    920066\n",
       "disbursal_16_days_or_more_before_posting    917613\n",
       "disbursal_after_posting                     159010\n",
       "no_disbursal                                  3398\n",
       "Name: disburse_status, dtype: int64"
      ]
     },
     "execution_count": 86,
     "metadata": {},
     "output_type": "execute_result"
    }
   ],
   "source": [
    "loans.disburse_status.value_counts()"
   ]
  },
  {
   "cell_type": "markdown",
   "metadata": {},
   "source": [
    "- I remove disburse_time, a column displaying at what time the borrower received a loan from the Micro-Financial Institution (as there can be pre-disbursal). As you can see , after cleaning I have four categories, indicating whether there was pre-disbursal of the loan by the Micro Financial Institution or not ( meaning the borrowers would have received the loan anyway or not). \n",
    "- First of all, the 3000 values in the category no disbursal are highly correlated with the positive class, or a loan being expired, which is a giveaway. I would have needed to remove those rows, but since they were from the precious minority class I felt bad removing this information.\n",
    "- The two categories of pre-disbursal are the ones most correlated with the positive class but have pretty much the same funding rates. Post disbursal loans get a bit more funded since they are dependent on Kiva, which would have been nice to add to my analysis, but this is by only 2 percenatage points compared to the others, which isn't huge.\n",
    "- Since the variation in funded rates between the different categories isn't huge, and the fact I would have needed to remove some rows for this be added, I resolved keeping this out of the analysis. These values might be redundant with other information as well, for example field partners or distribution model."
   ]
  },
  {
   "cell_type": "code",
   "execution_count": 88,
   "metadata": {},
   "outputs": [
    {
     "data": {
      "image/png": "[encoded data removed]",
      "text/plain": [
       "<Figure size 1080x720 with 2 Axes>"
      ]
     },
     "metadata": {
      "needs_background": "light"
     },
     "output_type": "display_data"
    }
   ],
   "source": [
    "fig,(ax,ax1) = plt.subplots(nrows=2,figsize=(10,10))\n",
    "loans.groupby('disburse_status')['status'].mean().sort_values(ascending=False).plot(kind='bar',figsize=(15,10),ax=ax)\n",
    "loans.groupby('disburse_status')['status'].mean().sort_values(ascending=False).plot(kind='bar',figsize=(15,10),ax=ax1)\n",
    "ax1.set_ylabel('percentage funded',fontsize=15)\n",
    "ax1.set_ylim(0.94)\n",
    "ax.set_xticklabels(labels= '')\n",
    "ax.set_title('Funding rates per disburse status',fontsize=15)\n",
    "plt.show()"
   ]
  },
  {
   "cell_type": "code",
   "execution_count": 89,
   "metadata": {},
   "outputs": [
    {
     "data": {
      "text/plain": [
       "1    875866\n",
       "0     44200\n",
       "Name: status, dtype: int64"
      ]
     },
     "execution_count": 89,
     "metadata": {},
     "output_type": "execute_result"
    }
   ],
   "source": [
    "loans[loans.disburse_status == 'disbursal_16_days_or_less_before_posting'].status.value_counts()"
   ]
  },
  {
   "cell_type": "markdown",
   "metadata": {},
   "source": [
    "* I remove loan_id, image_id, loan_name and borrower_names as these columns don't add much to the analysis\n",
    "- I remove country_code due to its redudancy with country_name"
   ]
  },
  {
   "cell_type": "code",
   "execution_count": 90,
   "metadata": {},
   "outputs": [],
   "source": [
    "loans.drop(columns=['loan_id','image_id','loan_name', 'borrower_names','country_code','disburse_time','disburse_status'],inplace=True)"
   ]
  },
  {
   "cell_type": "markdown",
   "metadata": {},
   "source": [
    "## REMOVING GIVEAWAY AND POST CAMPAIGN COLUMNS"
   ]
  },
  {
   "cell_type": "code",
   "execution_count": 91,
   "metadata": {},
   "outputs": [
    {
     "data": {
      "text/plain": [
       "original_language                       0\n",
       "description                             0\n",
       "funded_amount                           0\n",
       "loan_amount                             0\n",
       "status                                  0\n",
       "activity_name                           0\n",
       "sector_name                             0\n",
       "loan_use                                0\n",
       "country_name                            0\n",
       "town_name                               0\n",
       "currency_policy                         0\n",
       "currency_exchange_coverage_rate         0\n",
       "currency                                0\n",
       "posted_time                             0\n",
       "planned_expiration_time                 0\n",
       "raised_time                         92013\n",
       "lender_term                             0\n",
       "num_lenders_total                       0\n",
       "num_journal_entries                     0\n",
       "num_bulk_entries                        0\n",
       "tags                               896923\n",
       "borrower_pictured                       0\n",
       "repayment_interval                      0\n",
       "distribution_model                      0\n",
       "has_video                               0\n",
       "field_partners                          0\n",
       "number_of_borrowers                     0\n",
       "gender_categories                       0\n",
       "days_of_campaign_duration               0\n",
       "dtype: int64"
      ]
     },
     "execution_count": 91,
     "metadata": {},
     "output_type": "execute_result"
    }
   ],
   "source": [
    "loans.isnull().sum()"
   ]
  },
  {
   "cell_type": "markdown",
   "metadata": {},
   "source": [
    "- The funded_amount column is a giveaway and is data that Kiva gets once the campaign finishes, while we want the data available at the start of the campaign. Same for raised_time, which is post-campaign data, and a clear giveaway, as the 100k nulls above mean that money the was never raised druing fundraising, so there was never a disbursal, meaning these nulls are highly correlated with a loan being expired or not. \n",
    "- Num_lenders_total, or the data about the number of people who help out per loan, is also post-campaign data, while this model focuses on the information available at the time the loan is posted on the website "
   ]
  },
  {
   "cell_type": "code",
   "execution_count": 92,
   "metadata": {},
   "outputs": [],
   "source": [
    "loans.drop(columns=['num_lenders_total','raised_time','funded_amount'],inplace=True)"
   ]
  },
  {
   "cell_type": "markdown",
   "metadata": {},
   "source": [
    "### NUM JOURNAL ENTRIES AND NUM BULK ENTRIES"
   ]
  },
  {
   "cell_type": "code",
   "execution_count": 93,
   "metadata": {},
   "outputs": [
    {
     "data": {
      "text/plain": [
       "1     1308769\n",
       "2      506774\n",
       "3       91422\n",
       "4       56532\n",
       "5       16552\n",
       "6       11215\n",
       "7        3357\n",
       "8        1791\n",
       "10        795\n",
       "9         619\n",
       "12        413\n",
       "11        367\n",
       "19        307\n",
       "14        249\n",
       "16        187\n",
       "Name: num_journal_entries, dtype: int64"
      ]
     },
     "execution_count": 93,
     "metadata": {},
     "output_type": "execute_result"
    }
   ],
   "source": [
    "loans.num_journal_entries.value_counts().head(15)"
   ]
  },
  {
   "cell_type": "code",
   "execution_count": 94,
   "metadata": {},
   "outputs": [],
   "source": [
    "jel = [1,2,3,4,5,6]\n",
    "def journalentries(i):\n",
    "    if i in jel:\n",
    "        return i\n",
    "    else:\n",
    "        return ('7 or more')"
   ]
  },
  {
   "cell_type": "code",
   "execution_count": 95,
   "metadata": {},
   "outputs": [],
   "source": [
    "loans['num_journal_entries'] = loans.num_journal_entries.apply(journalentries)"
   ]
  },
  {
   "cell_type": "markdown",
   "metadata": {},
   "source": [
    "To finish, there was also these 2 columns, num_journal_entries and num_bulk_entries, whose meaning I had trouble understanding. However, while doing some EDA, I noticed that the vast majority of loans had 1 journal entry, but in the rare case that your loan has more than one, it is nearly guaranteed to be funded. This is shown in the second graph in which >1 loan entry columns have nearly 100 % funded rates. This severe dichotomy results in a giveaway as only 1 category is correlated with the minority class (1 journal entry), resulting most-likely in post-campaign data. The same goes for num_bulk_entries. Due to their likeliness in being post-campaign data, I removed these."
   ]
  },
  {
   "cell_type": "code",
   "execution_count": 96,
   "metadata": {},
   "outputs": [
    {
     "data": {
      "image/png": "[encoded data removed]",
      "text/plain": [
       "<Figure size 576x720 with 2 Axes>"
      ]
     },
     "metadata": {
      "needs_background": "light"
     },
     "output_type": "display_data"
    }
   ],
   "source": [
    "fig,(ax,ax1) = plt.subplots(nrows = 2,figsize=(8,10))\n",
    "loans.num_journal_entries.value_counts(normalize=True).plot(kind='bar',ax=ax)\n",
    "loans.groupby('num_journal_entries')['status'].mean().sort_values(ascending=False).plot(kind='bar',ax=ax1)\n",
    "fig.suptitle(' Funded percentages and amount percentages of loans per number of journal entries',fontsize=15)\n",
    "ax.set_ylabel('Amount percentage',fontsize=12)\n",
    "ax1.set_ylabel('Funded percentage',fontsize=12)\n",
    "ax1.set_xlabel('number of journal entries',fontsize=15)\n",
    "ax1.set_ylim(0.8)\n",
    "plt.tight_layout()\n",
    "plt.show()"
   ]
  },
  {
   "cell_type": "code",
   "execution_count": 97,
   "metadata": {},
   "outputs": [
    {
     "data": {
      "text/plain": [
       "1    1792428\n",
       "2     160930\n",
       "3      34269\n",
       "4       8273\n",
       "5       1771\n",
       "Name: num_bulk_entries, dtype: int64"
      ]
     },
     "execution_count": 97,
     "metadata": {},
     "output_type": "execute_result"
    }
   ],
   "source": [
    "loans.num_bulk_entries.value_counts().head(5)"
   ]
  },
  {
   "cell_type": "code",
   "execution_count": 98,
   "metadata": {},
   "outputs": [],
   "source": [
    "bel = [1,2]\n",
    "def bulkentries(i):\n",
    "    if i in bel:\n",
    "        return i\n",
    "    else:\n",
    "        return ('3 or more')"
   ]
  },
  {
   "cell_type": "code",
   "execution_count": 99,
   "metadata": {},
   "outputs": [],
   "source": [
    "loans['num_bulk_entries'] = loans.num_bulk_entries.apply(bulkentries)"
   ]
  },
  {
   "cell_type": "code",
   "execution_count": 100,
   "metadata": {},
   "outputs": [
    {
     "data": {
      "text/plain": [
       "1            1792428\n",
       "2             160930\n",
       "3 or more      46729\n",
       "Name: num_bulk_entries, dtype: int64"
      ]
     },
     "execution_count": 100,
     "metadata": {},
     "output_type": "execute_result"
    }
   ],
   "source": [
    "loans.num_bulk_entries.value_counts()"
   ]
  },
  {
   "cell_type": "code",
   "execution_count": 101,
   "metadata": {},
   "outputs": [
    {
     "data": {
      "image/png": "[encoded data removed]",
      "text/plain": [
       "<Figure size 576x720 with 2 Axes>"
      ]
     },
     "metadata": {
      "needs_background": "light"
     },
     "output_type": "display_data"
    }
   ],
   "source": [
    "fig,(ax,ax1) = plt.subplots(nrows = 2,figsize=(8,10))\n",
    "loans.num_bulk_entries.value_counts(normalize=True).plot(kind='bar',ax=ax)\n",
    "loans.groupby('num_bulk_entries')['status'].mean().sort_values(ascending=False).plot(kind='bar',ax=ax1)\n",
    "fig.suptitle(' Funded percentages and amount percentages of loans per number of bulk entries',fontsize=15)\n",
    "ax.set_ylabel('Amount percentage',fontsize=12)\n",
    "ax1.set_ylabel('Funded percentage',fontsize=12)\n",
    "ax1.set_xlabel('number of bulk entries',fontsize=15)\n",
    "ax1.set_ylim(0.8)\n",
    "plt.tight_layout()\n",
    "plt.show()"
   ]
  },
  {
   "cell_type": "code",
   "execution_count": 102,
   "metadata": {},
   "outputs": [],
   "source": [
    "#DROP\n",
    "loans.drop(columns=['num_journal_entries','num_bulk_entries'],inplace=True)"
   ]
  },
  {
   "cell_type": "code",
   "execution_count": 103,
   "metadata": {},
   "outputs": [],
   "source": [
    "#EDA READY\n",
    "loans.to_csv('loans_data_cleaned.csv')"
   ]
  }
 ],
 "metadata": {
  "kernelspec": {
   "display_name": "Python 3",
   "language": "python",
   "name": "python3"
  },
  "language_info": {
   "codemirror_mode": {
    "name": "ipython",
    "version": 3
   },
   "file_extension": ".py",
   "mimetype": "text/x-python",
   "name": "python",
   "nbconvert_exporter": "python",
   "pygments_lexer": "ipython3",
   "version": "3.8.5"
  }
 },
 "nbformat": 4,
 "nbformat_minor": 4
}
