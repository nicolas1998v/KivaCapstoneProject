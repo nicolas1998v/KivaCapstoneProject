{
 "cells": [
  {
   "cell_type": "markdown",
   "metadata": {},
   "source": [
    "# KIVA CAPSTONE PROJECT - DATA CLEANING - EXTRA VARIABLES"
   ]
  },
  {
   "cell_type": "markdown",
   "metadata": {},
   "source": [
    "These are the cleaning steps I went through to make this dataset suitable for modelling.\n",
    "*** "
   ]
  },
  {
   "cell_type": "code",
   "execution_count": 1,
   "metadata": {},
   "outputs": [],
   "source": [
    "#IMPORTS\n",
    "from sklearn.preprocessing import StandardScaler\n",
    "\n",
    "import pandas as pd\n",
    "import seaborn as sns\n",
    "import numpy as np\n",
    "from datetime import timedelta\n",
    "import matplotlib.pyplot as plt\n",
    "pd.set_option('display.max_columns', None)"
   ]
  },
  {
   "cell_type": "code",
   "execution_count": 2,
   "metadata": {},
   "outputs": [],
   "source": [
    "#LOAD THE DATASET\n",
    "loans = pd.read_csv('/Users/nicolas/Downloads/loans2.csv',low_memory=False)"
   ]
  },
  {
   "cell_type": "code",
   "execution_count": 3,
   "metadata": {},
   "outputs": [],
   "source": [
    "#LOWER THE COLUMNS\n",
    "lower_columns = []\n",
    "for i in loans.columns:\n",
    "    lower_columns.append(i.lower())\n",
    "loans.columns = lower_columns"
   ]
  },
  {
   "cell_type": "code",
   "execution_count": 4,
   "metadata": {},
   "outputs": [
    {
     "data": {
      "text/plain": [
       "RangeIndex(start=0, stop=1511575, step=1)"
      ]
     },
     "execution_count": 4,
     "metadata": {},
     "output_type": "execute_result"
    }
   ],
   "source": [
    "loans.index"
   ]
  },
  {
   "cell_type": "markdown",
   "metadata": {},
   "source": [
    "## REMOVING NULLS"
   ]
  },
  {
   "cell_type": "markdown",
   "metadata": {},
   "source": [
    "Let's start with the first step, removing nulls."
   ]
  },
  {
   "cell_type": "code",
   "execution_count": 5,
   "metadata": {},
   "outputs": [
    {
     "data": {
      "text/plain": [
       "unnamed: 0                               0\n",
       "loan_id                                  0\n",
       "loan_name                            25235\n",
       "original_language                    21677\n",
       "description                          21683\n",
       "description_translated              272437\n",
       "funded_amount                            0\n",
       "loan_amount                              0\n",
       "status                                   0\n",
       "image_id                             21677\n",
       "video_id                           1511259\n",
       "activity_name                            0\n",
       "sector_name                              0\n",
       "loan_use                             21686\n",
       "country_code                            31\n",
       "country_name                             0\n",
       "town_name                            97508\n",
       "currency_policy                          0\n",
       "currency_exchange_coverage_rate     243071\n",
       "currency                                 0\n",
       "partner_id                               0\n",
       "posted_time                              0\n",
       "planned_expiration_time             152761\n",
       "disburse_time                            2\n",
       "raised_time                          83996\n",
       "lender_term                             11\n",
       "num_lenders_total                        0\n",
       "num_journal_entries                      0\n",
       "num_bulk_entries                         0\n",
       "tags                                572748\n",
       "borrower_names                       25235\n",
       "borrower_genders                     21677\n",
       "borrower_pictured                    21677\n",
       "repayment_interval                       0\n",
       "distribution_model                       0\n",
       "time                                     0\n",
       "delinquency                          25249\n",
       "default_rate                         25249\n",
       "rural_pct                            75766\n",
       "dtype: int64"
      ]
     },
     "execution_count": 5,
     "metadata": {},
     "output_type": "execute_result"
    }
   ],
   "source": [
    "loans.isnull().sum()"
   ]
  },
  {
   "cell_type": "markdown",
   "metadata": {},
   "source": [
    "## DESCRIPTION"
   ]
  },
  {
   "cell_type": "code",
   "execution_count": 6,
   "metadata": {},
   "outputs": [
    {
     "data": {
      "text/html": [
       "<div>\n",
       "<style scoped>\n",
       "    .dataframe tbody tr th:only-of-type {\n",
       "        vertical-align: middle;\n",
       "    }\n",
       "\n",
       "    .dataframe tbody tr th {\n",
       "        vertical-align: top;\n",
       "    }\n",
       "\n",
       "    .dataframe thead th {\n",
       "        text-align: right;\n",
       "    }\n",
       "</style>\n",
       "<table border=\"1\" class=\"dataframe\">\n",
       "  <thead>\n",
       "    <tr style=\"text-align: right;\">\n",
       "      <th></th>\n",
       "      <th>unnamed: 0</th>\n",
       "      <th>loan_id</th>\n",
       "      <th>loan_name</th>\n",
       "      <th>original_language</th>\n",
       "      <th>description</th>\n",
       "      <th>description_translated</th>\n",
       "      <th>funded_amount</th>\n",
       "      <th>loan_amount</th>\n",
       "      <th>status</th>\n",
       "      <th>image_id</th>\n",
       "      <th>video_id</th>\n",
       "      <th>activity_name</th>\n",
       "      <th>sector_name</th>\n",
       "      <th>loan_use</th>\n",
       "      <th>country_code</th>\n",
       "      <th>country_name</th>\n",
       "      <th>town_name</th>\n",
       "      <th>currency_policy</th>\n",
       "      <th>currency_exchange_coverage_rate</th>\n",
       "      <th>currency</th>\n",
       "      <th>partner_id</th>\n",
       "      <th>posted_time</th>\n",
       "      <th>planned_expiration_time</th>\n",
       "      <th>disburse_time</th>\n",
       "      <th>raised_time</th>\n",
       "      <th>lender_term</th>\n",
       "      <th>num_lenders_total</th>\n",
       "      <th>num_journal_entries</th>\n",
       "      <th>num_bulk_entries</th>\n",
       "      <th>tags</th>\n",
       "      <th>borrower_names</th>\n",
       "      <th>borrower_genders</th>\n",
       "      <th>borrower_pictured</th>\n",
       "      <th>repayment_interval</th>\n",
       "      <th>distribution_model</th>\n",
       "      <th>time</th>\n",
       "      <th>delinquency</th>\n",
       "      <th>default_rate</th>\n",
       "      <th>rural_pct</th>\n",
       "    </tr>\n",
       "  </thead>\n",
       "  <tbody>\n",
       "    <tr>\n",
       "      <th>368793</th>\n",
       "      <td>368793</td>\n",
       "      <td>843681</td>\n",
       "      <td>Maria Salome</td>\n",
       "      <td>Spanish</td>\n",
       "      <td>Salome, de 28 años de edad, no estudió, porque...</td>\n",
       "      <td>NaN</td>\n",
       "      <td>650.0</td>\n",
       "      <td>650.0</td>\n",
       "      <td>funded</td>\n",
       "      <td>1819723.0</td>\n",
       "      <td>NaN</td>\n",
       "      <td>Agriculture</td>\n",
       "      <td>Agriculture</td>\n",
       "      <td>NaN</td>\n",
       "      <td>SV</td>\n",
       "      <td>El Salvador</td>\n",
       "      <td>Osicala</td>\n",
       "      <td>shared</td>\n",
       "      <td>0.1</td>\n",
       "      <td>USD</td>\n",
       "      <td>199.0</td>\n",
       "      <td>2015-02-19 19:13:57.000 +0000</td>\n",
       "      <td>2015-03-25 17:00:02.000 +0000</td>\n",
       "      <td>2015-01-29 08:00:00.000 +0000</td>\n",
       "      <td>2015-02-28 08:05:31.000 +0000</td>\n",
       "      <td>15.0</td>\n",
       "      <td>21</td>\n",
       "      <td>2</td>\n",
       "      <td>1</td>\n",
       "      <td>volunteer_pick</td>\n",
       "      <td>Maria Salome</td>\n",
       "      <td>female</td>\n",
       "      <td>true</td>\n",
       "      <td>bullet</td>\n",
       "      <td>field_partner</td>\n",
       "      <td>114</td>\n",
       "      <td>2.61</td>\n",
       "      <td>1.50</td>\n",
       "      <td>87.0</td>\n",
       "    </tr>\n",
       "    <tr>\n",
       "      <th>565339</th>\n",
       "      <td>565339</td>\n",
       "      <td>28091</td>\n",
       "      <td>Hilda Yolanda</td>\n",
       "      <td>Spanish</td>\n",
       "      <td>&lt;p&gt;Hilda is asking for a loan to expand her bu...</td>\n",
       "      <td>NaN</td>\n",
       "      <td>325.0</td>\n",
       "      <td>325.0</td>\n",
       "      <td>funded</td>\n",
       "      <td>99567.0</td>\n",
       "      <td>NaN</td>\n",
       "      <td>Food Production/Sales</td>\n",
       "      <td>Food</td>\n",
       "      <td>Business Expansion</td>\n",
       "      <td>SV</td>\n",
       "      <td>El Salvador</td>\n",
       "      <td>La Libertad, La Libertad</td>\n",
       "      <td>standard</td>\n",
       "      <td>NaN</td>\n",
       "      <td>USD</td>\n",
       "      <td>81.0</td>\n",
       "      <td>2007-12-17 22:21:47.000 +0000</td>\n",
       "      <td>NaN</td>\n",
       "      <td>2008-01-04 17:41:38.000 +0000</td>\n",
       "      <td>2007-12-21 17:41:38.000 +0000</td>\n",
       "      <td>11.0</td>\n",
       "      <td>11</td>\n",
       "      <td>2</td>\n",
       "      <td>1</td>\n",
       "      <td>NaN</td>\n",
       "      <td>Hilda Yolanda</td>\n",
       "      <td>female</td>\n",
       "      <td>true</td>\n",
       "      <td>monthly</td>\n",
       "      <td>field_partner</td>\n",
       "      <td>159</td>\n",
       "      <td>0.00</td>\n",
       "      <td>3.46</td>\n",
       "      <td>57.0</td>\n",
       "    </tr>\n",
       "    <tr>\n",
       "      <th>565347</th>\n",
       "      <td>565347</td>\n",
       "      <td>139879</td>\n",
       "      <td>Claudia  Marina</td>\n",
       "      <td>Spanish</td>\n",
       "      <td>Claudia  Marina  R.  D. F. resiD. en el munici...</td>\n",
       "      <td>NaN</td>\n",
       "      <td>500.0</td>\n",
       "      <td>500.0</td>\n",
       "      <td>funded</td>\n",
       "      <td>394625.0</td>\n",
       "      <td>NaN</td>\n",
       "      <td>Food Production/Sales</td>\n",
       "      <td>Food</td>\n",
       "      <td>compra de insumos para aumentar producción</td>\n",
       "      <td>SV</td>\n",
       "      <td>El Salvador</td>\n",
       "      <td>San Salvador,  San Salvador</td>\n",
       "      <td>standard</td>\n",
       "      <td>NaN</td>\n",
       "      <td>USD</td>\n",
       "      <td>81.0</td>\n",
       "      <td>2009-09-25 13:11:54.000 +0000</td>\n",
       "      <td>NaN</td>\n",
       "      <td>2009-08-26 07:00:00.000 +0000</td>\n",
       "      <td>2009-09-29 18:27:28.000 +0000</td>\n",
       "      <td>14.0</td>\n",
       "      <td>19</td>\n",
       "      <td>1</td>\n",
       "      <td>1</td>\n",
       "      <td>NaN</td>\n",
       "      <td>Claudia  Marina</td>\n",
       "      <td>female</td>\n",
       "      <td>true</td>\n",
       "      <td>monthly</td>\n",
       "      <td>field_partner</td>\n",
       "      <td>159</td>\n",
       "      <td>0.00</td>\n",
       "      <td>3.46</td>\n",
       "      <td>57.0</td>\n",
       "    </tr>\n",
       "    <tr>\n",
       "      <th>565420</th>\n",
       "      <td>565420</td>\n",
       "      <td>28123</td>\n",
       "      <td>Maria Elena</td>\n",
       "      <td>Spanish</td>\n",
       "      <td>Mrs. Z. lives with her husband and children in...</td>\n",
       "      <td>NaN</td>\n",
       "      <td>600.0</td>\n",
       "      <td>600.0</td>\n",
       "      <td>funded</td>\n",
       "      <td>99724.0</td>\n",
       "      <td>NaN</td>\n",
       "      <td>Grocery Store</td>\n",
       "      <td>Food</td>\n",
       "      <td>To stock a small grocery store.</td>\n",
       "      <td>SV</td>\n",
       "      <td>El Salvador</td>\n",
       "      <td>Colonia las Arboledas #2 pasaje 6,Lourdes,Colon</td>\n",
       "      <td>standard</td>\n",
       "      <td>NaN</td>\n",
       "      <td>USD</td>\n",
       "      <td>81.0</td>\n",
       "      <td>2007-12-18 03:30:26.000 +0000</td>\n",
       "      <td>NaN</td>\n",
       "      <td>2008-01-05 19:09:49.000 +0000</td>\n",
       "      <td>2007-12-22 19:09:49.000 +0000</td>\n",
       "      <td>15.0</td>\n",
       "      <td>23</td>\n",
       "      <td>1</td>\n",
       "      <td>1</td>\n",
       "      <td>NaN</td>\n",
       "      <td>Maria Elena</td>\n",
       "      <td>female</td>\n",
       "      <td>true</td>\n",
       "      <td>monthly</td>\n",
       "      <td>field_partner</td>\n",
       "      <td>159</td>\n",
       "      <td>0.00</td>\n",
       "      <td>3.46</td>\n",
       "      <td>57.0</td>\n",
       "    </tr>\n",
       "    <tr>\n",
       "      <th>565430</th>\n",
       "      <td>565430</td>\n",
       "      <td>141809</td>\n",
       "      <td>Sonia</td>\n",
       "      <td>Spanish</td>\n",
       "      <td>Sonia C. M. de 40 años de edad, vive en Apopa ...</td>\n",
       "      <td>NaN</td>\n",
       "      <td>800.0</td>\n",
       "      <td>800.0</td>\n",
       "      <td>funded</td>\n",
       "      <td>399961.0</td>\n",
       "      <td>NaN</td>\n",
       "      <td>Textiles</td>\n",
       "      <td>Arts</td>\n",
       "      <td>Tela para la elaboracion de ropa</td>\n",
       "      <td>SV</td>\n",
       "      <td>El Salvador</td>\n",
       "      <td>San Salvador,  San Salvador</td>\n",
       "      <td>standard</td>\n",
       "      <td>NaN</td>\n",
       "      <td>USD</td>\n",
       "      <td>81.0</td>\n",
       "      <td>2009-10-04 18:32:28.000 +0000</td>\n",
       "      <td>NaN</td>\n",
       "      <td>2009-09-18 07:00:00.000 +0000</td>\n",
       "      <td>2009-10-05 19:43:17.000 +0000</td>\n",
       "      <td>20.0</td>\n",
       "      <td>30</td>\n",
       "      <td>1</td>\n",
       "      <td>1</td>\n",
       "      <td>NaN</td>\n",
       "      <td>Sonia</td>\n",
       "      <td>female</td>\n",
       "      <td>true</td>\n",
       "      <td>monthly</td>\n",
       "      <td>field_partner</td>\n",
       "      <td>159</td>\n",
       "      <td>0.00</td>\n",
       "      <td>3.46</td>\n",
       "      <td>57.0</td>\n",
       "    </tr>\n",
       "  </tbody>\n",
       "</table>\n",
       "</div>"
      ],
      "text/plain": [
       "        unnamed: 0  loan_id        loan_name original_language  \\\n",
       "368793      368793   843681     Maria Salome           Spanish   \n",
       "565339      565339    28091    Hilda Yolanda           Spanish   \n",
       "565347      565347   139879  Claudia  Marina           Spanish   \n",
       "565420      565420    28123      Maria Elena           Spanish   \n",
       "565430      565430   141809            Sonia           Spanish   \n",
       "\n",
       "                                              description  \\\n",
       "368793  Salome, de 28 años de edad, no estudió, porque...   \n",
       "565339  <p>Hilda is asking for a loan to expand her bu...   \n",
       "565347  Claudia  Marina  R.  D. F. resiD. en el munici...   \n",
       "565420  Mrs. Z. lives with her husband and children in...   \n",
       "565430  Sonia C. M. de 40 años de edad, vive en Apopa ...   \n",
       "\n",
       "       description_translated  funded_amount  loan_amount  status   image_id  \\\n",
       "368793                    NaN          650.0        650.0  funded  1819723.0   \n",
       "565339                    NaN          325.0        325.0  funded    99567.0   \n",
       "565347                    NaN          500.0        500.0  funded   394625.0   \n",
       "565420                    NaN          600.0        600.0  funded    99724.0   \n",
       "565430                    NaN          800.0        800.0  funded   399961.0   \n",
       "\n",
       "        video_id          activity_name  sector_name  \\\n",
       "368793       NaN            Agriculture  Agriculture   \n",
       "565339       NaN  Food Production/Sales         Food   \n",
       "565347       NaN  Food Production/Sales         Food   \n",
       "565420       NaN          Grocery Store         Food   \n",
       "565430       NaN               Textiles         Arts   \n",
       "\n",
       "                                          loan_use country_code country_name  \\\n",
       "368793                                         NaN           SV  El Salvador   \n",
       "565339                          Business Expansion           SV  El Salvador   \n",
       "565347  compra de insumos para aumentar producción           SV  El Salvador   \n",
       "565420             To stock a small grocery store.           SV  El Salvador   \n",
       "565430            Tela para la elaboracion de ropa           SV  El Salvador   \n",
       "\n",
       "                                              town_name currency_policy  \\\n",
       "368793                                          Osicala          shared   \n",
       "565339                         La Libertad, La Libertad        standard   \n",
       "565347                      San Salvador,  San Salvador        standard   \n",
       "565420  Colonia las Arboledas #2 pasaje 6,Lourdes,Colon        standard   \n",
       "565430                      San Salvador,  San Salvador        standard   \n",
       "\n",
       "        currency_exchange_coverage_rate currency  partner_id  \\\n",
       "368793                              0.1      USD       199.0   \n",
       "565339                              NaN      USD        81.0   \n",
       "565347                              NaN      USD        81.0   \n",
       "565420                              NaN      USD        81.0   \n",
       "565430                              NaN      USD        81.0   \n",
       "\n",
       "                          posted_time        planned_expiration_time  \\\n",
       "368793  2015-02-19 19:13:57.000 +0000  2015-03-25 17:00:02.000 +0000   \n",
       "565339  2007-12-17 22:21:47.000 +0000                            NaN   \n",
       "565347  2009-09-25 13:11:54.000 +0000                            NaN   \n",
       "565420  2007-12-18 03:30:26.000 +0000                            NaN   \n",
       "565430  2009-10-04 18:32:28.000 +0000                            NaN   \n",
       "\n",
       "                        disburse_time                    raised_time  \\\n",
       "368793  2015-01-29 08:00:00.000 +0000  2015-02-28 08:05:31.000 +0000   \n",
       "565339  2008-01-04 17:41:38.000 +0000  2007-12-21 17:41:38.000 +0000   \n",
       "565347  2009-08-26 07:00:00.000 +0000  2009-09-29 18:27:28.000 +0000   \n",
       "565420  2008-01-05 19:09:49.000 +0000  2007-12-22 19:09:49.000 +0000   \n",
       "565430  2009-09-18 07:00:00.000 +0000  2009-10-05 19:43:17.000 +0000   \n",
       "\n",
       "        lender_term  num_lenders_total  num_journal_entries  num_bulk_entries  \\\n",
       "368793         15.0                 21                    2                 1   \n",
       "565339         11.0                 11                    2                 1   \n",
       "565347         14.0                 19                    1                 1   \n",
       "565420         15.0                 23                    1                 1   \n",
       "565430         20.0                 30                    1                 1   \n",
       "\n",
       "                  tags   borrower_names borrower_genders borrower_pictured  \\\n",
       "368793  volunteer_pick     Maria Salome           female              true   \n",
       "565339             NaN    Hilda Yolanda           female              true   \n",
       "565347             NaN  Claudia  Marina           female              true   \n",
       "565420             NaN      Maria Elena           female              true   \n",
       "565430             NaN            Sonia           female              true   \n",
       "\n",
       "       repayment_interval distribution_model  time  delinquency  default_rate  \\\n",
       "368793             bullet      field_partner   114         2.61          1.50   \n",
       "565339            monthly      field_partner   159         0.00          3.46   \n",
       "565347            monthly      field_partner   159         0.00          3.46   \n",
       "565420            monthly      field_partner   159         0.00          3.46   \n",
       "565430            monthly      field_partner   159         0.00          3.46   \n",
       "\n",
       "        rural_pct  \n",
       "368793       87.0  \n",
       "565339       57.0  \n",
       "565347       57.0  \n",
       "565420       57.0  \n",
       "565430       57.0  "
      ]
     },
     "execution_count": 6,
     "metadata": {},
     "output_type": "execute_result"
    }
   ],
   "source": [
    "loans[(loans.description_translated.isnull()) & (loans.original_language == 'Spanish')].head(5)"
   ]
  },
  {
   "cell_type": "code",
   "execution_count": 7,
   "metadata": {},
   "outputs": [],
   "source": [
    "description_nulls = loans[(loans.description_translated.isnull())]"
   ]
  },
  {
   "cell_type": "code",
   "execution_count": 8,
   "metadata": {},
   "outputs": [],
   "source": [
    "loans.loc[description_nulls.index,'description_translated'] = description_nulls.description"
   ]
  },
  {
   "cell_type": "code",
   "execution_count": 9,
   "metadata": {},
   "outputs": [],
   "source": [
    "loans.drop(loans[loans.description_translated.isnull()].index,inplace=True)"
   ]
  },
  {
   "cell_type": "code",
   "execution_count": 10,
   "metadata": {},
   "outputs": [],
   "source": [
    "loans.drop(columns='description',inplace=True)"
   ]
  },
  {
   "cell_type": "code",
   "execution_count": 11,
   "metadata": {},
   "outputs": [],
   "source": [
    "new_columns = {'description_translated':'description'}\n",
    "loans = loans.rename(columns = new_columns)"
   ]
  },
  {
   "cell_type": "code",
   "execution_count": 12,
   "metadata": {},
   "outputs": [
    {
     "data": {
      "text/plain": [
       "unnamed: 0                               0\n",
       "loan_id                                  0\n",
       "loan_name                             3558\n",
       "original_language                        0\n",
       "description                              0\n",
       "funded_amount                            0\n",
       "loan_amount                              0\n",
       "status                                   0\n",
       "image_id                                 0\n",
       "video_id                           1489576\n",
       "activity_name                            0\n",
       "sector_name                              0\n",
       "loan_use                                 4\n",
       "country_code                            31\n",
       "country_name                             0\n",
       "town_name                            75831\n",
       "currency_policy                          0\n",
       "currency_exchange_coverage_rate     239990\n",
       "currency                                 0\n",
       "partner_id                               0\n",
       "posted_time                              0\n",
       "planned_expiration_time             149965\n",
       "disburse_time                            0\n",
       "raised_time                          82288\n",
       "lender_term                             11\n",
       "num_lenders_total                        0\n",
       "num_journal_entries                      0\n",
       "num_bulk_entries                         0\n",
       "tags                                563819\n",
       "borrower_names                        3558\n",
       "borrower_genders                         0\n",
       "borrower_pictured                        0\n",
       "repayment_interval                       0\n",
       "distribution_model                       0\n",
       "time                                     0\n",
       "delinquency                          25200\n",
       "default_rate                         25200\n",
       "rural_pct                            73576\n",
       "dtype: int64"
      ]
     },
     "execution_count": 12,
     "metadata": {},
     "output_type": "execute_result"
    }
   ],
   "source": [
    "loans.isnull().sum()"
   ]
  },
  {
   "cell_type": "markdown",
   "metadata": {},
   "source": [
    "### TOWNS"
   ]
  },
  {
   "cell_type": "markdown",
   "metadata": {},
   "source": [
    "There was many nulls for the town_name column but 0 nulls for the country_name column. I decided to replace the nulls in the town column by their respective countries, to keep the data truthful, even if cities aren't countries, but it still tells us it's a city inside that country."
   ]
  },
  {
   "cell_type": "code",
   "execution_count": 13,
   "metadata": {},
   "outputs": [],
   "source": [
    "#SUBSET \n",
    "towns_nulls = loans[loans.town_name.isnull()]"
   ]
  },
  {
   "cell_type": "code",
   "execution_count": 14,
   "metadata": {},
   "outputs": [],
   "source": [
    "#CREATING LIST OF COUNTRY NAMES FOR THESE NULLS\n",
    "townlist = towns_nulls.country_name"
   ]
  },
  {
   "cell_type": "code",
   "execution_count": 15,
   "metadata": {},
   "outputs": [],
   "source": [
    "#USING LOC TO SET THE COUNTRIES UNDER TOWN_NAMES\n",
    "loans.loc[towns_nulls.index,'town_name'] = townlist"
   ]
  },
  {
   "cell_type": "markdown",
   "metadata": {},
   "source": [
    "### LOANS CURRENCY EXCHANGE COVERAGE RATE "
   ]
  },
  {
   "cell_type": "markdown",
   "metadata": {},
   "source": [
    "This is the column showing if a certain loan has a currency exchange coverage rate policy, or in other words, a compensation for currency fluctuations from the lender. I thought that the nulls arose for 2 reasons. The first is simply that there is no currency exchange policy happening, so no agreement between KIVA and a certain bank, and the second is that there is no need to do so as the currency dealt with is in dollars, meaning no currency exchange, so no problem. This is why I divided the nulls into 2 groups, those that had US dollars as currency and those that didn't."
   ]
  },
  {
   "cell_type": "code",
   "execution_count": 16,
   "metadata": {},
   "outputs": [
    {
     "data": {
      "text/plain": [
       "0.1    1096133\n",
       "0.2      91964\n",
       "0.0      61805\n",
       "Name: currency_exchange_coverage_rate, dtype: int64"
      ]
     },
     "execution_count": 16,
     "metadata": {},
     "output_type": "execute_result"
    }
   ],
   "source": [
    "loans.currency_exchange_coverage_rate.value_counts()"
   ]
  },
  {
   "cell_type": "code",
   "execution_count": 17,
   "metadata": {},
   "outputs": [],
   "source": [
    "#SUSBSET \n",
    "exchange_nulls = loans[loans.currency_exchange_coverage_rate.isnull()]"
   ]
  },
  {
   "cell_type": "code",
   "execution_count": 18,
   "metadata": {},
   "outputs": [],
   "source": [
    "#CATEGORISATION OF NULLS\n",
    "exchanges_list = []\n",
    "for i in exchange_nulls.currency:\n",
    "    if i == 'USD':\n",
    "        exchanges_list.append('US_dollars')\n",
    "    else:\n",
    "        exchanges_list.append(0.0)"
   ]
  },
  {
   "cell_type": "code",
   "execution_count": 19,
   "metadata": {},
   "outputs": [],
   "source": [
    "#CHANGING NULLS USING LOC\n",
    "loans.loc[exchange_nulls.index,'currency_exchange_coverage_rate'] = exchanges_list"
   ]
  },
  {
   "cell_type": "code",
   "execution_count": 20,
   "metadata": {},
   "outputs": [
    {
     "data": {
      "text/plain": [
       "0.1           1096133\n",
       "0.0            188782\n",
       "US_dollars     113013\n",
       "0.2             91964\n",
       "Name: currency_exchange_coverage_rate, dtype: int64"
      ]
     },
     "execution_count": 20,
     "metadata": {},
     "output_type": "execute_result"
    }
   ],
   "source": [
    "# NEW VALUE COUNTS \n",
    "loans.currency_exchange_coverage_rate.value_counts()"
   ]
  },
  {
   "cell_type": "markdown",
   "metadata": {},
   "source": [
    "### VIDEO"
   ]
  },
  {
   "cell_type": "markdown",
   "metadata": {},
   "source": [
    "Made a simple binary column out of the video_id column and its nulls, thanks to this function."
   ]
  },
  {
   "cell_type": "code",
   "execution_count": 21,
   "metadata": {},
   "outputs": [],
   "source": [
    "#FUNCTION\n",
    "def convertnull(i):\n",
    "    if np.isnan(i) == True:\n",
    "        return 0 \n",
    "    else:\n",
    "        return 1"
   ]
  },
  {
   "cell_type": "code",
   "execution_count": 22,
   "metadata": {},
   "outputs": [],
   "source": [
    "#APPLY\n",
    "loans['has_video'] = loans.video_id.apply(convertnull)"
   ]
  },
  {
   "cell_type": "code",
   "execution_count": 23,
   "metadata": {},
   "outputs": [],
   "source": [
    "#DROP VIDEO ID COLUMN\n",
    "loans.drop(columns='video_id',inplace=True)"
   ]
  },
  {
   "cell_type": "markdown",
   "metadata": {},
   "source": [
    "### EXPIRATION TIME"
   ]
  },
  {
   "cell_type": "markdown",
   "metadata": {},
   "source": [
    "Expiration time column had some nulls while the posted time didn't. I took the median difference between expiration time and posted time. Using the subset of expiration time nulls, I added that time to each posted_time using timedelta, appending these to a list, and modifying the nulls in the original dataframe using loc and the list. "
   ]
  },
  {
   "cell_type": "code",
   "execution_count": 24,
   "metadata": {},
   "outputs": [],
   "source": [
    "#CHANGING DTYPE\n",
    "loans['posted_time'] = pd.to_datetime(loans['posted_time'])\n",
    "loans['planned_expiration_time'] = pd.to_datetime(loans['planned_expiration_time'])"
   ]
  },
  {
   "cell_type": "code",
   "execution_count": 25,
   "metadata": {},
   "outputs": [],
   "source": [
    "#SUBSET\n",
    "expiration_time_nulls = loans[loans['planned_expiration_time'].isnull()]"
   ]
  },
  {
   "cell_type": "code",
   "execution_count": 26,
   "metadata": {},
   "outputs": [
    {
     "data": {
      "text/plain": [
       "Timedelta('34 days 09:04:48')"
      ]
     },
     "execution_count": 26,
     "metadata": {},
     "output_type": "execute_result"
    }
   ],
   "source": [
    "#MEDIAN TIME\n",
    "(loans.planned_expiration_time - loans.posted_time).median()"
   ]
  },
  {
   "cell_type": "code",
   "execution_count": 27,
   "metadata": {},
   "outputs": [],
   "source": [
    "#FOR LOOP, LIST CONSTRUCTION\n",
    "dates = []\n",
    "for i in expiration_time_nulls.posted_time:\n",
    "    offset = timedelta(days=34,hours=12,minutes=53)\n",
    "    dates.append(i + offset)"
   ]
  },
  {
   "cell_type": "code",
   "execution_count": 28,
   "metadata": {},
   "outputs": [],
   "source": [
    "#CHANGING NULLS USING LOC AND LIST\n",
    "loans.loc[expiration_time_nulls.index,'planned_expiration_time'] = dates"
   ]
  },
  {
   "cell_type": "markdown",
   "metadata": {},
   "source": [
    "### LOAN USE AND LENDER TERM"
   ]
  },
  {
   "cell_type": "markdown",
   "metadata": {},
   "source": [
    "There was some negligeable amounts of nulls in these columns which I dropped."
   ]
  },
  {
   "cell_type": "code",
   "execution_count": 29,
   "metadata": {},
   "outputs": [],
   "source": [
    "#DROP NULLS\n",
    "loans.drop(loans[loans.loan_use.isnull()].index,inplace=True)"
   ]
  },
  {
   "cell_type": "code",
   "execution_count": 30,
   "metadata": {},
   "outputs": [],
   "source": [
    "#DROP NULLS\n",
    "loans.drop(loans[loans.lender_term.isnull()].index,inplace=True)"
   ]
  },
  {
   "cell_type": "code",
   "execution_count": 31,
   "metadata": {},
   "outputs": [
    {
     "data": {
      "text/plain": [
       "unnamed: 0                              0\n",
       "loan_id                                 0\n",
       "loan_name                            3558\n",
       "original_language                       0\n",
       "description                             0\n",
       "funded_amount                           0\n",
       "loan_amount                             0\n",
       "status                                  0\n",
       "image_id                                0\n",
       "activity_name                           0\n",
       "sector_name                             0\n",
       "loan_use                                0\n",
       "country_code                           31\n",
       "country_name                            0\n",
       "town_name                               0\n",
       "currency_policy                         0\n",
       "currency_exchange_coverage_rate         0\n",
       "currency                                0\n",
       "partner_id                              0\n",
       "posted_time                             0\n",
       "planned_expiration_time                 0\n",
       "disburse_time                           0\n",
       "raised_time                         82287\n",
       "lender_term                             0\n",
       "num_lenders_total                       0\n",
       "num_journal_entries                     0\n",
       "num_bulk_entries                        0\n",
       "tags                               563805\n",
       "borrower_names                       3558\n",
       "borrower_genders                        0\n",
       "borrower_pictured                       0\n",
       "repayment_interval                      0\n",
       "distribution_model                      0\n",
       "time                                    0\n",
       "delinquency                         25200\n",
       "default_rate                        25200\n",
       "rural_pct                           73576\n",
       "has_video                               0\n",
       "dtype: int64"
      ]
     },
     "execution_count": 31,
     "metadata": {},
     "output_type": "execute_result"
    }
   ],
   "source": [
    "loans.isnull().sum()"
   ]
  },
  {
   "cell_type": "markdown",
   "metadata": {},
   "source": [
    "# REDUCING VALUE COUNTS AND FEATURE ENGINEERING"
   ]
  },
  {
   "cell_type": "markdown",
   "metadata": {},
   "source": [
    "Let's formally move to the second part of cleaning: reducing value counts."
   ]
  },
  {
   "cell_type": "markdown",
   "metadata": {},
   "source": [
    "### NUMBER OF BORROWERS"
   ]
  },
  {
   "cell_type": "markdown",
   "metadata": {},
   "source": [
    "\n",
    "The borrower_genders column looked like this, giving the precise amount of individuals per group, so I created a new column number_of_borrowers out of it. "
   ]
  },
  {
   "cell_type": "code",
   "execution_count": 32,
   "metadata": {},
   "outputs": [
    {
     "data": {
      "text/plain": [
       "female                                                                                                                                                                                                                                                                              995518\n",
       "male                                                                                                                                                                                                                                                                                315780\n",
       "female, female                                                                                                                                                                                                                                                                       24387\n",
       "female, female, female                                                                                                                                                                                                                                                               19835\n",
       "female, female, female, female, female                                                                                                                                                                                                                                               14863\n",
       "                                                                                                                                                                                                                                                                                     ...  \n",
       "female, female, female, female, female, female, female, female, female, male, female, female, female, female, female, female, female, female, female, female, female, female, female, female, male, female, female, female, female, female, female                                       1\n",
       "male, male, male, female, male, female, female, female, female, female, female, female, female, male, male, female, female, female, male, male, female, female, male, female, female, male, female, male, female, female, female, female, female, female, male, male, male, male         1\n",
       "female, female, female, male, female, female, male, female, female, female, female, female, female, male, female, female, female, female, female, female, male                                                                                                                           1\n",
       "female, male, female, male, female, female, female, female, female, female, female, female, female, female, female, male, female, female, female, female, female, female, female, female, female, male, female, female, female, female                                                   1\n",
       "male, female, female, male, female, female, male, female, female, male, male, female, female                                                                                                                                                                                             1\n",
       "Name: borrower_genders, Length: 17322, dtype: int64"
      ]
     },
     "execution_count": 32,
     "metadata": {},
     "output_type": "execute_result"
    }
   ],
   "source": [
    "loans.borrower_genders.value_counts()"
   ]
  },
  {
   "cell_type": "code",
   "execution_count": 33,
   "metadata": {},
   "outputs": [],
   "source": [
    "#LAMBDA FUNCTION\n",
    "loans['number_of_borrowers'] = loans.borrower_genders.apply(lambda x: len(x.split()))"
   ]
  },
  {
   "cell_type": "code",
   "execution_count": 34,
   "metadata": {},
   "outputs": [
    {
     "data": {
      "text/plain": [
       "1     1311298\n",
       "2       31063\n",
       "3       27533\n",
       "5       25405\n",
       "4       22095\n",
       "6        9395\n",
       "10       9121\n",
       "7        8624\n",
       "8        8042\n",
       "9        6406\n",
       "Name: number_of_borrowers, dtype: int64"
      ]
     },
     "execution_count": 34,
     "metadata": {},
     "output_type": "execute_result"
    }
   ],
   "source": [
    "#NEW COLUMN\n",
    "loans.number_of_borrowers.value_counts().head(10)"
   ]
  },
  {
   "cell_type": "markdown",
   "metadata": {},
   "source": [
    "### BORROWER GENDERS"
   ]
  },
  {
   "cell_type": "markdown",
   "metadata": {},
   "source": [
    "Looking like that, I knew that I needed to reduce the value counts of borrower_genders. So I thought to be appropriate to have a resulting column with 6 values: male, female, low percentage of group with males, high percentages of group with males, groups of males, groups of females. \n",
    "\n",
    "To do this I wrote a function counting the number of males per value in the column and created a new feature num_of_males out of it. Then I created another feature by dividing num_of_males by num_of_borrowers to have the percentage of males per group."
   ]
  },
  {
   "cell_type": "code",
   "execution_count": 35,
   "metadata": {},
   "outputs": [
    {
     "data": {
      "text/plain": [
       "female                                                                                                                                                                                                                                                                              995518\n",
       "male                                                                                                                                                                                                                                                                                315780\n",
       "female, female                                                                                                                                                                                                                                                                       24387\n",
       "female, female, female                                                                                                                                                                                                                                                               19835\n",
       "female, female, female, female, female                                                                                                                                                                                                                                               14863\n",
       "                                                                                                                                                                                                                                                                                     ...  \n",
       "female, female, female, female, female, female, female, female, female, male, female, female, female, female, female, female, female, female, female, female, female, female, female, female, male, female, female, female, female, female, female                                       1\n",
       "male, male, male, female, male, female, female, female, female, female, female, female, female, male, male, female, female, female, male, male, female, female, male, female, female, male, female, male, female, female, female, female, female, female, male, male, male, male         1\n",
       "female, female, female, male, female, female, male, female, female, female, female, female, female, male, female, female, female, female, female, female, male                                                                                                                           1\n",
       "female, male, female, male, female, female, female, female, female, female, female, female, female, female, female, male, female, female, female, female, female, female, female, female, female, male, female, female, female, female                                                   1\n",
       "male, female, female, male, female, female, male, female, female, male, male, female, female                                                                                                                                                                                             1\n",
       "Name: borrower_genders, Length: 17322, dtype: int64"
      ]
     },
     "execution_count": 35,
     "metadata": {},
     "output_type": "execute_result"
    }
   ],
   "source": [
    "loans.borrower_genders.value_counts()"
   ]
  },
  {
   "cell_type": "code",
   "execution_count": 36,
   "metadata": {},
   "outputs": [],
   "source": [
    "#FUNCTION\n",
    "def genders(l):\n",
    "    k = 0\n",
    "    for i in l.split(','):\n",
    "        if i == ' male' or i == 'male':\n",
    "            k += 1\n",
    "    return k \n",
    "      "
   ]
  },
  {
   "cell_type": "code",
   "execution_count": 37,
   "metadata": {},
   "outputs": [
    {
     "data": {
      "text/plain": [
       "2"
      ]
     },
     "execution_count": 37,
     "metadata": {},
     "output_type": "execute_result"
    }
   ],
   "source": [
    "genders('male, male, female, female')"
   ]
  },
  {
   "cell_type": "code",
   "execution_count": 38,
   "metadata": {},
   "outputs": [],
   "source": [
    "#APPLY\n",
    "#NEW COLUMN\n",
    "loans['num_of_males'] = loans.borrower_genders.apply(genders)"
   ]
  },
  {
   "cell_type": "code",
   "execution_count": 39,
   "metadata": {},
   "outputs": [
    {
     "data": {
      "text/plain": [
       "0     1096947\n",
       "1      342039\n",
       "2       16004\n",
       "3       10674\n",
       "4        7323\n",
       "5        5518\n",
       "6        3719\n",
       "7        2621\n",
       "8        1767\n",
       "9        1096\n",
       "10        762\n",
       "11        459\n",
       "12        289\n",
       "13        191\n",
       "14        131\n",
       "Name: num_of_males, dtype: int64"
      ]
     },
     "execution_count": 39,
     "metadata": {},
     "output_type": "execute_result"
    }
   ],
   "source": [
    "loans.num_of_males.value_counts().head(15)"
   ]
  },
  {
   "cell_type": "code",
   "execution_count": 40,
   "metadata": {},
   "outputs": [],
   "source": [
    "#NEW COLUMN\n",
    "loans['percentage_of_males'] = loans.num_of_males / loans.number_of_borrowers"
   ]
  },
  {
   "cell_type": "code",
   "execution_count": 41,
   "metadata": {},
   "outputs": [
    {
     "data": {
      "text/plain": [
       "0.000000    1096947\n",
       "1.000000     321330\n",
       "0.500000       9452\n",
       "0.333333       7123\n",
       "0.200000       6360\n",
       "             ...   \n",
       "0.607143          1\n",
       "0.422222          1\n",
       "0.343750          1\n",
       "0.791667          1\n",
       "0.677419          1\n",
       "Name: percentage_of_males, Length: 417, dtype: int64"
      ]
     },
     "execution_count": 41,
     "metadata": {},
     "output_type": "execute_result"
    }
   ],
   "source": [
    "loans.percentage_of_males.value_counts()"
   ]
  },
  {
   "cell_type": "markdown",
   "metadata": {},
   "source": [
    "Looking at the percentage of males column, the loans with 0.000 are loans taken by a female or group of females, the loans 1.0000 are loans taken by a man or group of mans, and the loans with values ranging from 0 to 1 are loans taken by a mixed group. \n",
    "\n",
    "I created a custom function accordingly to return a column with males, female, and 2 groups of groups: low percentage and high percentage of groups with males, by taking the mean of the values between 0 and 1."
   ]
  },
  {
   "cell_type": "code",
   "execution_count": 42,
   "metadata": {},
   "outputs": [
    {
     "data": {
      "text/plain": [
       "0.37622619452231526"
      ]
     },
     "execution_count": 42,
     "metadata": {},
     "output_type": "execute_result"
    }
   ],
   "source": [
    "#MEAN OF VALUES\n",
    "loans[(loans.percentage_of_males > 0.000001) & (loans.percentage_of_males < 0.999999)].percentage_of_males.mean()"
   ]
  },
  {
   "cell_type": "code",
   "execution_count": 43,
   "metadata": {},
   "outputs": [],
   "source": [
    "#CUSTOM FUNCTION\n",
    "def male_percentage(l):\n",
    "    if l == 0.000000:\n",
    "        return 'female'\n",
    "    elif 0.00001 < l < 0.35517323258764366:\n",
    "        return 'low percentage of male group'\n",
    "    elif 0.35517323258764366 < l < 0.99999999:\n",
    "        return 'high percentage of male group'\n",
    "    else:\n",
    "        return 'male'\n"
   ]
  },
  {
   "cell_type": "code",
   "execution_count": 44,
   "metadata": {},
   "outputs": [],
   "source": [
    "#APPLY\n",
    "loans['gender_categories'] = loans.percentage_of_males.apply(male_percentage)"
   ]
  },
  {
   "cell_type": "code",
   "execution_count": 45,
   "metadata": {},
   "outputs": [
    {
     "data": {
      "text/plain": [
       "female                           1096947\n",
       "male                              321330\n",
       "low percentage of male group       37721\n",
       "high percentage of male group      33879\n",
       "Name: gender_categories, dtype: int64"
      ]
     },
     "execution_count": 45,
     "metadata": {},
     "output_type": "execute_result"
    }
   ],
   "source": [
    "loans.gender_categories.value_counts()"
   ]
  },
  {
   "cell_type": "markdown",
   "metadata": {},
   "source": [
    "The female value takes into account females and groups of females, the male value takes into account males and groups of males. I create 2 other categories by using subsets, pandas and loc on the main dataset."
   ]
  },
  {
   "cell_type": "code",
   "execution_count": 46,
   "metadata": {},
   "outputs": [],
   "source": [
    "#SUBSET\n",
    "males = loans[loans.gender_categories == 'male']      "
   ]
  },
  {
   "cell_type": "code",
   "execution_count": 47,
   "metadata": {},
   "outputs": [],
   "source": [
    "#LOC\n",
    "loans.loc[males[males.number_of_borrowers > 1].index,'gender_categories'] = 'group_of_males'"
   ]
  },
  {
   "cell_type": "code",
   "execution_count": 48,
   "metadata": {},
   "outputs": [],
   "source": [
    "#SUBSET\n",
    "females = loans[loans.gender_categories == 'female']"
   ]
  },
  {
   "cell_type": "code",
   "execution_count": 49,
   "metadata": {},
   "outputs": [],
   "source": [
    "#LOC\n",
    "loans.loc[females[females.number_of_borrowers > 1].index,'gender_categories'] = 'group_of_females'"
   ]
  },
  {
   "cell_type": "code",
   "execution_count": 50,
   "metadata": {},
   "outputs": [
    {
     "data": {
      "text/plain": [
       "female                           995518\n",
       "male                             315780\n",
       "group_of_females                 101429\n",
       "low percentage of male group      37721\n",
       "high percentage of male group     33879\n",
       "group_of_males                     5550\n",
       "Name: gender_categories, dtype: int64"
      ]
     },
     "execution_count": 50,
     "metadata": {},
     "output_type": "execute_result"
    }
   ],
   "source": [
    "#5 categories\n",
    "loans.gender_categories.value_counts()"
   ]
  },
  {
   "cell_type": "code",
   "execution_count": 51,
   "metadata": {},
   "outputs": [],
   "source": [
    "loans.drop(columns=['num_of_males','percentage_of_males','borrower_genders'],inplace=True)"
   ]
  },
  {
   "cell_type": "markdown",
   "metadata": {},
   "source": [
    "I drop the 3 columns that I used to create this final feature as they are redundant or useless."
   ]
  },
  {
   "cell_type": "markdown",
   "metadata": {},
   "source": [
    "### TOWNS"
   ]
  },
  {
   "cell_type": "markdown",
   "metadata": {},
   "source": [
    "Too many values, once again cut down using a custom function. I thought I would keep the first 300 cities and put the rest into a category 'village'."
   ]
  },
  {
   "cell_type": "code",
   "execution_count": 52,
   "metadata": {},
   "outputs": [
    {
     "data": {
      "text/plain": [
       "El Salvador                         37175\n",
       "Kaduna                              18444\n",
       "Lahore                              13614\n",
       "Senegal                             11704\n",
       "Eldoret, Rift Valley                10283\n",
       "                                    ...  \n",
       "Matlameng, Ha Sekhonyana, Leribe        1\n",
       "SIMBUCO, TUBOD, LANAO DEL NORTE         1\n",
       "east poblacion, lopez jaena             1\n",
       "Kulaa                                   1\n",
       "Bidii                                   1\n",
       "Name: town_name, Length: 20502, dtype: int64"
      ]
     },
     "execution_count": 52,
     "metadata": {},
     "output_type": "execute_result"
    }
   ],
   "source": [
    "loans.town_name.value_counts()"
   ]
  },
  {
   "cell_type": "code",
   "execution_count": 53,
   "metadata": {},
   "outputs": [],
   "source": [
    "#FUNCTION\n",
    "bigtowns = list(loans.town_name.value_counts().head(300).index)\n",
    "def towns(i):\n",
    "    if i in bigtowns:\n",
    "        return i\n",
    "    else:\n",
    "        return 'Village'\n",
    "loans['town_name'] = loans.town_name.apply(towns)"
   ]
  },
  {
   "cell_type": "code",
   "execution_count": 54,
   "metadata": {},
   "outputs": [
    {
     "data": {
      "text/plain": [
       "Village                     611528\n",
       "El Salvador                  37175\n",
       "Kaduna                       18444\n",
       "Lahore                       13614\n",
       "Senegal                      11704\n",
       "                             ...  \n",
       "Abuyog, Leyte                 1163\n",
       "Bukavu, Sud Kivu Provice      1148\n",
       "Mbarara                       1140\n",
       "Beirut                        1140\n",
       "Ndunyu Njeru                  1110\n",
       "Name: town_name, Length: 301, dtype: int64"
      ]
     },
     "execution_count": 54,
     "metadata": {},
     "output_type": "execute_result"
    }
   ],
   "source": [
    "loans.town_name.value_counts()"
   ]
  },
  {
   "cell_type": "markdown",
   "metadata": {},
   "source": [
    "### BORROWER PICTURED"
   ]
  },
  {
   "cell_type": "markdown",
   "metadata": {},
   "source": [
    "After looking at these value counts, I decided I wanted four categories out of this : single pictures, groups whose members are all pictured, groups which have more members pictured, and groups which had less members pictured.\n",
    "\n",
    "I did that first with a custom function dividing the number of \"falses\", or a person not pictured, with the number of people in the group. "
   ]
  },
  {
   "cell_type": "code",
   "execution_count": 55,
   "metadata": {},
   "outputs": [
    {
     "data": {
      "text/plain": [
       "true                                                                                                                                                                                                                           1311298\n",
       "true, true                                                                                                                                                                                                                       31063\n",
       "true, true, true                                                                                                                                                                                                                 27533\n",
       "true, true, true, true, true                                                                                                                                                                                                     25405\n",
       "true, true, true, true                                                                                                                                                                                                           22095\n",
       "                                                                                                                                                                                                                                ...   \n",
       "false, true, true, true, false, true, true, true, false, true, true, true, true, true, true, true, true, true, true, true, true, true, true, true, true, true, true, true, true, true, true, false, true                             1\n",
       "true, true, true, true, true, true, false, true, true, true, true, true, false, true, true, true, true, true                                                                                                                         1\n",
       "true, true, true, true, true, false, true, true, false, true, true, true, true, false, true, true, true, false, false, true, true, true, true, true, true, true, true, true, true, true, true                                        1\n",
       "true, true, false, true, true, true, true, false, true, true, true, true, true, false, true, true, true, true, true, true, true, true, true, true, true, true, true, true, false, true, true, true, true, true, false, true          1\n",
       "true, true, false, false, true, true, true, true, true, true, true, true, true, true, true, true, true, true, true, true, true, true, true, true, true, true, true, true                                                             1\n",
       "Name: borrower_pictured, Length: 3414, dtype: int64"
      ]
     },
     "execution_count": 55,
     "metadata": {},
     "output_type": "execute_result"
    }
   ],
   "source": [
    "loans.borrower_pictured.value_counts()"
   ]
  },
  {
   "cell_type": "code",
   "execution_count": 56,
   "metadata": {},
   "outputs": [],
   "source": [
    "#FUNCTION\n",
    "def pictures(l):\n",
    "    k = 0\n",
    "    if (len(l.split()) == 1) & (l == 'true'):\n",
    "        return 0\n",
    "    for i in l.split(','):\n",
    "        if i == ' false' or i == 'false':\n",
    "            k += 1 \n",
    "    return k / len(l.split())\n",
    "      "
   ]
  },
  {
   "cell_type": "code",
   "execution_count": 57,
   "metadata": {},
   "outputs": [
    {
     "data": {
      "text/plain": [
       "0.3333333333333333"
      ]
     },
     "execution_count": 57,
     "metadata": {},
     "output_type": "execute_result"
    }
   ],
   "source": [
    "pictures('false, true, true')"
   ]
  },
  {
   "cell_type": "code",
   "execution_count": 58,
   "metadata": {},
   "outputs": [],
   "source": [
    "#APPLY\n",
    "loans.borrower_pictured = loans.borrower_pictured.apply(pictures)"
   ]
  },
  {
   "cell_type": "code",
   "execution_count": 59,
   "metadata": {},
   "outputs": [
    {
     "data": {
      "text/plain": [
       "0.000000    1478123\n",
       "0.142857       1447\n",
       "0.166667       1274\n",
       "0.125000       1170\n",
       "0.100000       1047\n",
       "             ...   \n",
       "0.075000          1\n",
       "0.155556          1\n",
       "0.170732          1\n",
       "0.140000          1\n",
       "0.180000          1\n",
       "Name: borrower_pictured, Length: 130, dtype: int64"
      ]
     },
     "execution_count": 59,
     "metadata": {},
     "output_type": "execute_result"
    }
   ],
   "source": [
    "loans.borrower_pictured.value_counts()"
   ]
  },
  {
   "cell_type": "markdown",
   "metadata": {},
   "source": [
    "I used the same methods as I did with borrower_genders to split this into four categories.\n",
    "\n",
    "I first created a custom function using the mean of the values between 0 and 1 to divide the groups into groups with less people pictured and groups with more people pictured.\n",
    "\n",
    "I also knew that a 0.00000 value meant its or a single picture or a group were everyone is pictured, so I made sure to make the distinction, using subsets and loc.\n"
   ]
  },
  {
   "cell_type": "code",
   "execution_count": 60,
   "metadata": {},
   "outputs": [
    {
     "data": {
      "text/plain": [
       "0.12366406001981911"
      ]
     },
     "execution_count": 60,
     "metadata": {},
     "output_type": "execute_result"
    }
   ],
   "source": [
    "loans[(loans.borrower_pictured > 0.000001) & (loans.borrower_pictured < 0.999999)].borrower_pictured.mean()"
   ]
  },
  {
   "cell_type": "code",
   "execution_count": 61,
   "metadata": {},
   "outputs": [],
   "source": [
    "#FUNCTION\n",
    "def pics_percentage(l):\n",
    "    if l == 0.000000:\n",
    "        return 'single pic'\n",
    "    elif 0.00001 < l < 0.11743800516925956:\n",
    "        return 'group with most pics'\n",
    "    elif 0.11743800516925956 < l < 0.99999999:\n",
    "        return 'groups with less pics'"
   ]
  },
  {
   "cell_type": "code",
   "execution_count": 62,
   "metadata": {},
   "outputs": [],
   "source": [
    "#APPLY\n",
    "loans['borrower_pictured'] = loans.borrower_pictured.apply(pics_percentage)"
   ]
  },
  {
   "cell_type": "code",
   "execution_count": 63,
   "metadata": {},
   "outputs": [
    {
     "data": {
      "text/plain": [
       "single pic               1478123\n",
       "groups with less pics       6555\n",
       "group with most pics        5199\n",
       "Name: borrower_pictured, dtype: int64"
      ]
     },
     "execution_count": 63,
     "metadata": {},
     "output_type": "execute_result"
    }
   ],
   "source": [
    "loans.borrower_pictured.value_counts()"
   ]
  },
  {
   "cell_type": "code",
   "execution_count": 64,
   "metadata": {},
   "outputs": [],
   "source": [
    "#SUBSET\n",
    "sgwithpic = loans[loans.borrower_pictured == 'single pic']"
   ]
  },
  {
   "cell_type": "code",
   "execution_count": 65,
   "metadata": {},
   "outputs": [],
   "source": [
    "#LOC\n",
    "loans.loc[sgwithpic[sgwithpic.number_of_borrowers > 1].index,'borrower_pictured'] = 'group with all pics'"
   ]
  },
  {
   "cell_type": "code",
   "execution_count": 66,
   "metadata": {},
   "outputs": [
    {
     "data": {
      "text/plain": [
       "single pic               1311298\n",
       "group with all pics       166825\n",
       "groups with less pics       6555\n",
       "group with most pics        5199\n",
       "Name: borrower_pictured, dtype: int64"
      ]
     },
     "execution_count": 66,
     "metadata": {},
     "output_type": "execute_result"
    }
   ],
   "source": [
    "# 4 categories\n",
    "loans.borrower_pictured.value_counts()"
   ]
  },
  {
   "cell_type": "markdown",
   "metadata": {},
   "source": [
    "### DAYS OF CAMPAIGN DURATION"
   ]
  },
  {
   "cell_type": "markdown",
   "metadata": {},
   "source": [
    "I also realised I could feature engineer a column displaying the number of days a certain loan was on campaign. I did that by taking the difference between the expired time and posted time. Then I took specfically the days using datetime."
   ]
  },
  {
   "cell_type": "code",
   "execution_count": 67,
   "metadata": {},
   "outputs": [],
   "source": [
    "loans['posted_time'] = pd.to_datetime(loans['posted_time'])\n",
    "loans['planned_expiration_time'] = pd.to_datetime(loans['planned_expiration_time'])\n",
    "#NEW COLUMN\n",
    "loans['campaign_duration'] = loans.planned_expiration_time - loans.posted_time"
   ]
  },
  {
   "cell_type": "code",
   "execution_count": 68,
   "metadata": {},
   "outputs": [
    {
     "data": {
      "text/plain": [
       "34 days 12:53:00    149953\n",
       "30 days 00:09:41        24\n",
       "30 days 00:05:00        24\n",
       "30 days 00:09:31        24\n",
       "30 days 00:05:35        23\n",
       "                     ...  \n",
       "53 days 11:38:38         1\n",
       "39 days 21:27:03         1\n",
       "49 days 22:06:16         1\n",
       "36 days 07:34:55         1\n",
       "42 days 15:46:22         1\n",
       "Name: campaign_duration, Length: 816302, dtype: int64"
      ]
     },
     "execution_count": 68,
     "metadata": {},
     "output_type": "execute_result"
    }
   ],
   "source": [
    "loans.campaign_duration.value_counts()"
   ]
  },
  {
   "cell_type": "code",
   "execution_count": 69,
   "metadata": {},
   "outputs": [],
   "source": [
    "#DATETIME\n",
    "loans['days_of_campaign_duration'] = loans.campaign_duration.dt.days"
   ]
  },
  {
   "cell_type": "code",
   "execution_count": 70,
   "metadata": {},
   "outputs": [],
   "source": [
    "loans.drop(columns = 'campaign_duration', inplace=True)"
   ]
  },
  {
   "cell_type": "code",
   "execution_count": 71,
   "metadata": {},
   "outputs": [
    {
     "data": {
      "text/plain": [
       "34     280083\n",
       "30     181571\n",
       "32     150468\n",
       "33     144663\n",
       "31     141230\n",
       "        ...  \n",
       "141         2\n",
       "143         2\n",
       "116         1\n",
       "113         1\n",
       "146         1\n",
       "Name: days_of_campaign_duration, Length: 109, dtype: int64"
      ]
     },
     "execution_count": 71,
     "metadata": {},
     "output_type": "execute_result"
    }
   ],
   "source": [
    "loans.days_of_campaign_duration.value_counts()"
   ]
  },
  {
   "cell_type": "markdown",
   "metadata": {},
   "source": [
    "##  THE TARGET VARIABLE - STATUS"
   ]
  },
  {
   "cell_type": "markdown",
   "metadata": {},
   "source": [
    "Let's have a look at the value counts of the target variable."
   ]
  },
  {
   "cell_type": "code",
   "execution_count": 72,
   "metadata": {},
   "outputs": [
    {
     "data": {
      "text/plain": [
       "funded         0.944769\n",
       "expired        0.051137\n",
       "fundRaising    0.004094\n",
       "Name: status, dtype: float64"
      ]
     },
     "execution_count": 72,
     "metadata": {},
     "output_type": "execute_result"
    }
   ],
   "source": [
    "loans.status.value_counts(normalize=True)"
   ]
  },
  {
   "cell_type": "markdown",
   "metadata": {},
   "source": [
    "I dropped the loans still fundraising as we still can't learn from these recent loans, leaving this a binary classification problem. "
   ]
  },
  {
   "cell_type": "code",
   "execution_count": 73,
   "metadata": {},
   "outputs": [],
   "source": [
    "loans.drop(loans[loans.status == 'fundRaising'].index,inplace=True)"
   ]
  },
  {
   "cell_type": "code",
   "execution_count": 74,
   "metadata": {},
   "outputs": [
    {
     "data": {
      "text/plain": [
       "funded     0.948653\n",
       "expired    0.051347\n",
       "Name: status, dtype: float64"
      ]
     },
     "execution_count": 74,
     "metadata": {},
     "output_type": "execute_result"
    }
   ],
   "source": [
    "loans.status.value_counts(normalize=True)"
   ]
  },
  {
   "cell_type": "markdown",
   "metadata": {},
   "source": [
    "Since I will first do some Exploratory Data Analysis, I will set the 'funded' majority class as the positive value to display percentages funded. However, once I've finished with my EDA, I will set the minority 'expired' class as positive for the modelling."
   ]
  },
  {
   "cell_type": "code",
   "execution_count": 75,
   "metadata": {},
   "outputs": [],
   "source": [
    "loans['status'] = loans.status.map(lambda x: 0 if 'expired' in x else 1)"
   ]
  },
  {
   "cell_type": "code",
   "execution_count": 76,
   "metadata": {},
   "outputs": [
    {
     "data": {
      "text/plain": [
       "1    0.948653\n",
       "0    0.051347\n",
       "Name: status, dtype: float64"
      ]
     },
     "execution_count": 76,
     "metadata": {},
     "output_type": "execute_result"
    }
   ],
   "source": [
    "loans.status.value_counts(normalize=True)"
   ]
  },
  {
   "cell_type": "markdown",
   "metadata": {},
   "source": [
    "## REMOVING USELESS COLUMNS"
   ]
  },
  {
   "cell_type": "markdown",
   "metadata": {},
   "source": [
    "* I remove loan_id, image_id, loan_name and borrower_names as these columns don't add much to the analysis\n",
    "- I remove country_code due to its redudancy with country_name"
   ]
  },
  {
   "cell_type": "code",
   "execution_count": 77,
   "metadata": {},
   "outputs": [],
   "source": [
    "loans.drop(columns=['loan_id','image_id','loan_name', 'borrower_names',\n",
    "                    'country_code','disburse_time','num_lenders_total',\n",
    "                    'raised_time','funded_amount''num_journal_entries',\n",
    "                    'num_bulk_entries'],inplace=True)"
   ]
  },
  {
   "cell_type": "code",
   "execution_count": 78,
   "metadata": {},
   "outputs": [],
   "source": [
    "loans.drop(columns=['num_lenders_total','raised_time','funded_amount'],inplace=True)"
   ]
  },
  {
   "cell_type": "code",
   "execution_count": 79,
   "metadata": {},
   "outputs": [],
   "source": [
    "#DROP\n",
    "loans.drop(columns=['num_journal_entries','num_bulk_entries'],inplace=True)"
   ]
  },
  {
   "cell_type": "code",
   "execution_count": 80,
   "metadata": {},
   "outputs": [],
   "source": [
    "loans.drop(columns=['unnamed: 0'],inplace=True)"
   ]
  },
  {
   "cell_type": "code",
   "execution_count": 81,
   "metadata": {},
   "outputs": [],
   "source": [
    "loans.loc[loans[loans.tags.isnull()].index,'tags'] = 'unspecified'\n",
    "loans.drop(loans[loans.delinquency.isnull()].index,inplace=True)\n",
    "loans.drop(loans[loans.default_rate.isnull()].index,inplace=True)\n",
    "loans.loc[loans[loans.rural_pct.isnull()].index,'rural_pct'] = 0.0"
   ]
  },
  {
   "cell_type": "code",
   "execution_count": 87,
   "metadata": {},
   "outputs": [
    {
     "data": {
      "text/plain": [
       "original_language                  0\n",
       "description                        0\n",
       "loan_amount                        0\n",
       "status                             0\n",
       "activity_name                      0\n",
       "sector_name                        0\n",
       "loan_use                           0\n",
       "country_name                       0\n",
       "town_name                          0\n",
       "currency_policy                    0\n",
       "currency_exchange_coverage_rate    0\n",
       "currency                           0\n",
       "partner_id                         0\n",
       "posted_time                        0\n",
       "planned_expiration_time            0\n",
       "lender_term                        0\n",
       "tags                               0\n",
       "borrower_pictured                  0\n",
       "repayment_interval                 0\n",
       "distribution_model                 0\n",
       "time                               0\n",
       "delinquency                        0\n",
       "default_rate                       0\n",
       "rural_pct                          0\n",
       "has_video                          0\n",
       "number_of_borrowers                0\n",
       "gender_categories                  0\n",
       "days_of_campaign_duration          0\n",
       "dtype: int64"
      ]
     },
     "execution_count": 87,
     "metadata": {},
     "output_type": "execute_result"
    }
   ],
   "source": [
    "loans.isnull().sum()"
   ]
  },
  {
   "cell_type": "code",
   "execution_count": 88,
   "metadata": {},
   "outputs": [],
   "source": [
    "loans.to_csv('loans2_data_cleaned.csv')"
   ]
  }
 ],
 "metadata": {
  "kernelspec": {
   "display_name": "Python 3",
   "language": "python",
   "name": "python3"
  },
  "language_info": {
   "codemirror_mode": {
    "name": "ipython",
    "version": 3
   },
   "file_extension": ".py",
   "mimetype": "text/x-python",
   "name": "python",
   "nbconvert_exporter": "python",
   "pygments_lexer": "ipython3",
   "version": "3.8.5"
  }
 },
 "nbformat": 4,
 "nbformat_minor": 4
}
